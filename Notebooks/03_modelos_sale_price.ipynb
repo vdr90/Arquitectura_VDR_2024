{
 "cells": [
  {
   "cell_type": "code",
   "execution_count": 1,
   "id": "e9ce7677",
   "metadata": {},
   "outputs": [],
   "source": [
    "#Librerías\n",
    "import numpy as np \n",
    "import pandas as pd \n",
    "import seaborn as sns \n",
    "import matplotlib.pyplot as plt\n",
    "from sklearn.preprocessing import OrdinalEncoder\n",
    "from sklearn.preprocessing import LabelEncoder\n",
    "from category_encoders.target_encoder import TargetEncoder\n",
    "from category_encoders.leave_one_out import LeaveOneOutEncoder\n",
    "from category_encoders.m_estimate import MEstimateEncoder\n",
    "from scipy import stats\n",
    "from scipy.stats import norm, probplot\n",
    "from sklearn.preprocessing import StandardScaler, OneHotEncoder\n",
    "from sklearn.compose import ColumnTransformer\n",
    "from sklearn.model_selection import train_test_split\n",
    "from sklearn.linear_model import LinearRegression\n",
    "from sklearn.metrics import mean_squared_error, r2_score\n",
    "from sklearn.preprocessing import PolynomialFeatures\n",
    "from sklearn.ensemble import RandomForestRegressor\n",
    "import xgboost as xgb\n",
    "\n",
    "\n",
    "import os\n",
    "for dirname, _, filenames in os.walk('/kaggle/input'):\n",
    "    for filename in filenames:\n",
    "        print(os.path.join(dirname, filename))"
   ]
  },
  {
   "cell_type": "code",
   "execution_count": 2,
   "id": "23e2156f",
   "metadata": {},
   "outputs": [],
   "source": [
    "#Cargar datos\n",
    "train_data_v2 = pd.read_csv(\"../Data/clean/train_clean_data.csv\")\n",
    "test_data_v2 = pd.read_csv(\"../Data/clean/test_clean_data.csv\")"
   ]
  },
  {
   "cell_type": "markdown",
   "id": "7a90c3c7",
   "metadata": {},
   "source": [
    "# Modelos predictivos de ML."
   ]
  },
  {
   "cell_type": "markdown",
   "id": "c6de045a",
   "metadata": {
    "papermill": {
     "duration": 0.057081,
     "end_time": "2024-01-30T00:17:22.274899",
     "exception": false,
     "start_time": "2024-01-30T00:17:22.217818",
     "status": "completed"
    },
    "tags": []
   },
   "source": [
    "### Dividimos los datos en set de entrenamiento y validación."
   ]
  },
  {
   "cell_type": "code",
   "execution_count": 3,
   "id": "249a320b",
   "metadata": {
    "execution": {
     "iopub.execute_input": "2024-01-30T00:17:22.392200Z",
     "iopub.status.busy": "2024-01-30T00:17:22.391670Z",
     "iopub.status.idle": "2024-01-30T00:17:22.406117Z",
     "shell.execute_reply": "2024-01-30T00:17:22.404668Z"
    },
    "papermill": {
     "duration": 0.07618,
     "end_time": "2024-01-30T00:17:22.408704",
     "exception": false,
     "start_time": "2024-01-30T00:17:22.332524",
     "status": "completed"
    },
    "tags": []
   },
   "outputs": [
    {
     "ename": "ValueError",
     "evalue": "With n_samples=0, test_size=0.3 and train_size=None, the resulting train set will be empty. Adjust any of the aforementioned parameters.",
     "output_type": "error",
     "traceback": [
      "\u001b[0;31m---------------------------------------------------------------------------\u001b[0m",
      "\u001b[0;31mValueError\u001b[0m                                Traceback (most recent call last)",
      "Cell \u001b[0;32mIn[3], line 5\u001b[0m\n\u001b[1;32m      2\u001b[0m y \u001b[38;5;241m=\u001b[39m train_data_v2[\u001b[38;5;124m'\u001b[39m\u001b[38;5;124mSalePrice\u001b[39m\u001b[38;5;124m'\u001b[39m]               \u001b[38;5;66;03m# Target variable\u001b[39;00m\n\u001b[1;32m      4\u001b[0m \u001b[38;5;66;03m# Splitting the dataset into training (e.g., 70%) and validation (e.g., 30%) sets\u001b[39;00m\n\u001b[0;32m----> 5\u001b[0m X_train, X_test, y_train, y_test \u001b[38;5;241m=\u001b[39m \u001b[43mtrain_test_split\u001b[49m\u001b[43m(\u001b[49m\u001b[43mX\u001b[49m\u001b[43m,\u001b[49m\u001b[43m \u001b[49m\u001b[43my\u001b[49m\u001b[43m,\u001b[49m\u001b[43m \u001b[49m\u001b[43mtest_size\u001b[49m\u001b[38;5;241;43m=\u001b[39;49m\u001b[38;5;241;43m0.3\u001b[39;49m\u001b[43m,\u001b[49m\u001b[43m \u001b[49m\u001b[43mrandom_state\u001b[49m\u001b[38;5;241;43m=\u001b[39;49m\u001b[38;5;241;43m42\u001b[39;49m\u001b[43m)\u001b[49m\n",
      "File \u001b[0;32m~/anaconda3/lib/python3.10/site-packages/sklearn/model_selection/_split.py:2562\u001b[0m, in \u001b[0;36mtrain_test_split\u001b[0;34m(test_size, train_size, random_state, shuffle, stratify, *arrays)\u001b[0m\n\u001b[1;32m   2559\u001b[0m arrays \u001b[38;5;241m=\u001b[39m indexable(\u001b[38;5;241m*\u001b[39marrays)\n\u001b[1;32m   2561\u001b[0m n_samples \u001b[38;5;241m=\u001b[39m _num_samples(arrays[\u001b[38;5;241m0\u001b[39m])\n\u001b[0;32m-> 2562\u001b[0m n_train, n_test \u001b[38;5;241m=\u001b[39m \u001b[43m_validate_shuffle_split\u001b[49m\u001b[43m(\u001b[49m\n\u001b[1;32m   2563\u001b[0m \u001b[43m    \u001b[49m\u001b[43mn_samples\u001b[49m\u001b[43m,\u001b[49m\u001b[43m \u001b[49m\u001b[43mtest_size\u001b[49m\u001b[43m,\u001b[49m\u001b[43m \u001b[49m\u001b[43mtrain_size\u001b[49m\u001b[43m,\u001b[49m\u001b[43m \u001b[49m\u001b[43mdefault_test_size\u001b[49m\u001b[38;5;241;43m=\u001b[39;49m\u001b[38;5;241;43m0.25\u001b[39;49m\n\u001b[1;32m   2564\u001b[0m \u001b[43m\u001b[49m\u001b[43m)\u001b[49m\n\u001b[1;32m   2566\u001b[0m \u001b[38;5;28;01mif\u001b[39;00m shuffle \u001b[38;5;129;01mis\u001b[39;00m \u001b[38;5;28;01mFalse\u001b[39;00m:\n\u001b[1;32m   2567\u001b[0m     \u001b[38;5;28;01mif\u001b[39;00m stratify \u001b[38;5;129;01mis\u001b[39;00m \u001b[38;5;129;01mnot\u001b[39;00m \u001b[38;5;28;01mNone\u001b[39;00m:\n",
      "File \u001b[0;32m~/anaconda3/lib/python3.10/site-packages/sklearn/model_selection/_split.py:2236\u001b[0m, in \u001b[0;36m_validate_shuffle_split\u001b[0;34m(n_samples, test_size, train_size, default_test_size)\u001b[0m\n\u001b[1;32m   2233\u001b[0m n_train, n_test \u001b[38;5;241m=\u001b[39m \u001b[38;5;28mint\u001b[39m(n_train), \u001b[38;5;28mint\u001b[39m(n_test)\n\u001b[1;32m   2235\u001b[0m \u001b[38;5;28;01mif\u001b[39;00m n_train \u001b[38;5;241m==\u001b[39m \u001b[38;5;241m0\u001b[39m:\n\u001b[0;32m-> 2236\u001b[0m     \u001b[38;5;28;01mraise\u001b[39;00m \u001b[38;5;167;01mValueError\u001b[39;00m(\n\u001b[1;32m   2237\u001b[0m         \u001b[38;5;124m\"\u001b[39m\u001b[38;5;124mWith n_samples=\u001b[39m\u001b[38;5;132;01m{}\u001b[39;00m\u001b[38;5;124m, test_size=\u001b[39m\u001b[38;5;132;01m{}\u001b[39;00m\u001b[38;5;124m and train_size=\u001b[39m\u001b[38;5;132;01m{}\u001b[39;00m\u001b[38;5;124m, the \u001b[39m\u001b[38;5;124m\"\u001b[39m\n\u001b[1;32m   2238\u001b[0m         \u001b[38;5;124m\"\u001b[39m\u001b[38;5;124mresulting train set will be empty. Adjust any of the \u001b[39m\u001b[38;5;124m\"\u001b[39m\n\u001b[1;32m   2239\u001b[0m         \u001b[38;5;124m\"\u001b[39m\u001b[38;5;124maforementioned parameters.\u001b[39m\u001b[38;5;124m\"\u001b[39m\u001b[38;5;241m.\u001b[39mformat(n_samples, test_size, train_size)\n\u001b[1;32m   2240\u001b[0m     )\n\u001b[1;32m   2242\u001b[0m \u001b[38;5;28;01mreturn\u001b[39;00m n_train, n_test\n",
      "\u001b[0;31mValueError\u001b[0m: With n_samples=0, test_size=0.3 and train_size=None, the resulting train set will be empty. Adjust any of the aforementioned parameters."
     ]
    }
   ],
   "source": [
    "X = train_data_v2.drop('SalePrice', axis=1)  # Features (all columns except the target variable)\n",
    "y = train_data_v2['SalePrice']               # Target variable\n",
    "\n",
    "# Splitting the dataset into training (e.g., 70%) and validation (e.g., 30%) sets\n",
    "X_train, X_test, y_train, y_test = train_test_split(X, y, test_size=0.3, random_state=42)\n",
    "\n",
    "# X_train, y_train are the training data\n",
    "# X_test, y_test are the testing data"
   ]
  },
  {
   "cell_type": "code",
   "execution_count": 5,
   "id": "353a9db5",
   "metadata": {},
   "outputs": [
    {
     "name": "stdout",
     "output_type": "stream",
     "text": [
      "Shape of X: (0, 146)\n",
      "Shape of y: (0,)\n"
     ]
    },
    {
     "data": {
      "text/plain": [
       "Series([], Name: SalePrice, dtype: object)"
      ]
     },
     "execution_count": 5,
     "metadata": {},
     "output_type": "execute_result"
    }
   ],
   "source": [
    "print(\"Shape of X:\", X.shape)\n",
    "print(\"Shape of y:\", y.shape)\n",
    "y.head()"
   ]
  },
  {
   "cell_type": "markdown",
   "id": "e7b03722",
   "metadata": {
    "papermill": {
     "duration": 0.055985,
     "end_time": "2024-01-30T00:17:22.520378",
     "exception": false,
     "start_time": "2024-01-30T00:17:22.464393",
     "status": "completed"
    },
    "tags": []
   },
   "source": [
    "### Linear Regression"
   ]
  },
  {
   "cell_type": "code",
   "execution_count": null,
   "id": "25e7ac0a",
   "metadata": {
    "execution": {
     "iopub.execute_input": "2024-01-30T00:17:22.633104Z",
     "iopub.status.busy": "2024-01-30T00:17:22.632591Z",
     "iopub.status.idle": "2024-01-30T00:17:22.715016Z",
     "shell.execute_reply": "2024-01-30T00:17:22.713592Z"
    },
    "papermill": {
     "duration": 0.143682,
     "end_time": "2024-01-30T00:17:22.719185",
     "exception": false,
     "start_time": "2024-01-30T00:17:22.575503",
     "status": "completed"
    },
    "tags": []
   },
   "outputs": [],
   "source": [
    "# Create a linear regression model\n",
    "model_lr = LinearRegression()\n",
    "\n",
    "# Fit the model on the training set\n",
    "model_lr.fit(X_train, y_train)\n",
    "\n",
    "# Make predictions on the test set\n",
    "y_pred = model_lr.predict(X_test)\n",
    "\n",
    "\n",
    "# Evaluate the model\n",
    "mse = mean_squared_error(y_test, y_pred)\n",
    "r2 = r2_score(y_test, y_pred)\n",
    "print(f'Mean Squared Error: {mse}')\n",
    "print(f'R-squared: {r2}')"
   ]
  },
  {
   "cell_type": "markdown",
   "id": "58703735",
   "metadata": {
    "papermill": {
     "duration": 0.054934,
     "end_time": "2024-01-30T00:17:22.914360",
     "exception": false,
     "start_time": "2024-01-30T00:17:22.859426",
     "status": "completed"
    },
    "tags": []
   },
   "source": [
    "# Polynomial Regression"
   ]
  },
  {
   "cell_type": "code",
   "execution_count": null,
   "id": "f1c0ed93",
   "metadata": {
    "execution": {
     "iopub.execute_input": "2024-01-30T00:17:23.029689Z",
     "iopub.status.busy": "2024-01-30T00:17:23.029209Z",
     "iopub.status.idle": "2024-01-30T00:17:26.202555Z",
     "shell.execute_reply": "2024-01-30T00:17:26.201113Z"
    },
    "papermill": {
     "duration": 3.236483,
     "end_time": "2024-01-30T00:17:26.206900",
     "exception": false,
     "start_time": "2024-01-30T00:17:22.970417",
     "status": "completed"
    },
    "tags": []
   },
   "outputs": [],
   "source": [
    "# Create a PolynomialFeatures object with the degree of the polynomial\n",
    "degree = 2  # We can adjust this value\n",
    "poly = PolynomialFeatures(degree=degree)\n",
    "\n",
    "# Transform the features into polynomial features\n",
    "X_train_poly = poly.fit_transform(X_train)\n",
    "X_test_poly = poly.transform(X_test)\n",
    "\n",
    "# Create a linear regression model\n",
    "model = LinearRegression()\n",
    "\n",
    "# Fit the model on the polynomial-transformed training set\n",
    "model.fit(X_train_poly, y_train)\n",
    "\n",
    "# Make predictions on the polynomial-transformed test set\n",
    "y_pred = model.predict(X_test_poly)\n",
    "\n",
    "# Evaluate the model\n",
    "mse = mean_squared_error(y_test, y_pred)\n",
    "r2 = r2_score(y_test, y_pred)\n",
    "print(f'Mean Squared Error: {mse}')\n",
    "print(f'R-squared: {r2}')"
   ]
  },
  {
   "cell_type": "markdown",
   "id": "893b589c",
   "metadata": {
    "papermill": {
     "duration": 0.057362,
     "end_time": "2024-01-30T00:17:26.387939",
     "exception": false,
     "start_time": "2024-01-30T00:17:26.330577",
     "status": "completed"
    },
    "tags": []
   },
   "source": [
    "### Random forest regression model"
   ]
  },
  {
   "cell_type": "code",
   "execution_count": null,
   "id": "c880a412",
   "metadata": {
    "execution": {
     "iopub.execute_input": "2024-01-30T00:17:26.501194Z",
     "iopub.status.busy": "2024-01-30T00:17:26.500717Z",
     "iopub.status.idle": "2024-01-30T00:17:33.363095Z",
     "shell.execute_reply": "2024-01-30T00:17:33.361454Z"
    },
    "papermill": {
     "duration": 6.922129,
     "end_time": "2024-01-30T00:17:33.365980",
     "exception": false,
     "start_time": "2024-01-30T00:17:26.443851",
     "status": "completed"
    },
    "tags": []
   },
   "outputs": [],
   "source": [
    "# Create a random forest regression model\n",
    "\n",
    "rf_model = RandomForestRegressor(n_estimators=500, random_state=42)\n",
    "\n",
    "# Fit the model on the training set\n",
    "rf_model.fit(X_train, y_train)\n",
    "\n",
    "# Make predictions on the test set\n",
    "y_pred = rf_model.predict(X_test)\n",
    "\n",
    "# Evaluate the model\n",
    "mse = mean_squared_error(y_test, y_pred)\n",
    "r2 = r2_score(y_test, y_pred)\n",
    "print(f'Mean Squared Error: {mse}')\n",
    "print(f'R-squared: {r2}')"
   ]
  },
  {
   "cell_type": "markdown",
   "id": "d0dcda58",
   "metadata": {
    "papermill": {
     "duration": 0.055068,
     "end_time": "2024-01-30T00:17:33.475886",
     "exception": false,
     "start_time": "2024-01-30T00:17:33.420818",
     "status": "completed"
    },
    "tags": []
   },
   "source": [
    "### XGBOOST model"
   ]
  },
  {
   "cell_type": "code",
   "execution_count": null,
   "id": "b7e9cc22",
   "metadata": {
    "execution": {
     "iopub.execute_input": "2024-01-30T00:17:33.588053Z",
     "iopub.status.busy": "2024-01-30T00:17:33.587559Z",
     "iopub.status.idle": "2024-01-30T00:17:34.893208Z",
     "shell.execute_reply": "2024-01-30T00:17:34.892055Z"
    },
    "papermill": {
     "duration": 1.365462,
     "end_time": "2024-01-30T00:17:34.896146",
     "exception": false,
     "start_time": "2024-01-30T00:17:33.530684",
     "status": "completed"
    },
    "tags": []
   },
   "outputs": [],
   "source": [
    "# Create an XGBoost regression model\n",
    "xgb_model = xgb.XGBRegressor(objective='reg:squarederror', n_estimators=500, learning_rate=0.1, random_state=42)\n",
    "\n",
    "# Fit the model on the training set\n",
    "xgb_model.fit(X_train, y_train)\n",
    "\n",
    "# Make predictions on the test set\n",
    "y_pred = xgb_model.predict(X_test)\n",
    "\n",
    "# Evaluate the model\n",
    "mse = mean_squared_error(y_test, y_pred)\n",
    "r2 = r2_score(y_test, y_pred)\n",
    "print(f'Mean Squared Error: {mse}')\n",
    "print(f'R-squared: {r2}')"
   ]
  },
  {
   "cell_type": "markdown",
   "id": "c900d9bc",
   "metadata": {},
   "source": [
    "# Resultados"
   ]
  },
  {
   "cell_type": "code",
   "execution_count": null,
   "id": "aa9a839d",
   "metadata": {
    "execution": {
     "iopub.execute_input": "2024-01-30T00:17:35.126903Z",
     "iopub.status.busy": "2024-01-30T00:17:35.126439Z",
     "iopub.status.idle": "2024-01-30T00:17:35.134908Z",
     "shell.execute_reply": "2024-01-30T00:17:35.133651Z"
    },
    "papermill": {
     "duration": 0.070007,
     "end_time": "2024-01-30T00:17:35.137472",
     "exception": false,
     "start_time": "2024-01-30T00:17:35.067465",
     "status": "completed"
    },
    "tags": []
   },
   "outputs": [],
   "source": [
    "test_data_v2 = test_data_v2.drop('SalePrice', axis=1)"
   ]
  },
  {
   "cell_type": "code",
   "execution_count": null,
   "id": "199ab25f",
   "metadata": {
    "execution": {
     "iopub.execute_input": "2024-01-30T00:17:35.258515Z",
     "iopub.status.busy": "2024-01-30T00:17:35.257272Z",
     "iopub.status.idle": "2024-01-30T00:17:35.302334Z",
     "shell.execute_reply": "2024-01-30T00:17:35.301262Z"
    },
    "papermill": {
     "duration": 0.107966,
     "end_time": "2024-01-30T00:17:35.305315",
     "exception": false,
     "start_time": "2024-01-30T00:17:35.197349",
     "status": "completed"
    },
    "tags": []
   },
   "outputs": [],
   "source": [
    "predict = xgb_model.predict(test_data_v2)\n",
    "log_y_pred = np.log(predict)"
   ]
  },
  {
   "cell_type": "code",
   "execution_count": null,
   "id": "c814f906",
   "metadata": {
    "execution": {
     "iopub.execute_input": "2024-01-30T00:17:35.422102Z",
     "iopub.status.busy": "2024-01-30T00:17:35.421654Z",
     "iopub.status.idle": "2024-01-30T00:17:35.428152Z",
     "shell.execute_reply": "2024-01-30T00:17:35.426980Z"
    },
    "papermill": {
     "duration": 0.068205,
     "end_time": "2024-01-30T00:17:35.431118",
     "exception": false,
     "start_time": "2024-01-30T00:17:35.362913",
     "status": "completed"
    },
    "tags": []
   },
   "outputs": [],
   "source": [
    "submission_df = pd.DataFrame({\n",
    "    'Id': test_data['Id'],\n",
    "    'SalePrice': log_y_pred\n",
    "})"
   ]
  },
  {
   "cell_type": "code",
   "execution_count": null,
   "id": "9ef68b55",
   "metadata": {
    "execution": {
     "iopub.execute_input": "2024-01-30T00:17:35.543304Z",
     "iopub.status.busy": "2024-01-30T00:17:35.542441Z",
     "iopub.status.idle": "2024-01-30T00:17:35.557887Z",
     "shell.execute_reply": "2024-01-30T00:17:35.556555Z"
    },
    "papermill": {
     "duration": 0.07496,
     "end_time": "2024-01-30T00:17:35.561074",
     "exception": false,
     "start_time": "2024-01-30T00:17:35.486114",
     "status": "completed"
    },
    "tags": []
   },
   "outputs": [],
   "source": [
    "submission_df.to_csv('submission.csv',index=False)"
   ]
  },
  {
   "cell_type": "code",
   "execution_count": null,
   "id": "5994bcd2",
   "metadata": {},
   "outputs": [],
   "source": []
  }
 ],
 "metadata": {
  "kaggle": {
   "accelerator": "none",
   "dataSources": [
    {
     "databundleVersionId": 868283,
     "sourceId": 5407,
     "sourceType": "competition"
    }
   ],
   "dockerImageVersionId": 30626,
   "isGpuEnabled": false,
   "isInternetEnabled": false,
   "language": "python",
   "sourceType": "notebook"
  },
  "kernelspec": {
   "display_name": "Python 3 (ipykernel)",
   "language": "python",
   "name": "python3"
  },
  "language_info": {
   "codemirror_mode": {
    "name": "ipython",
    "version": 3
   },
   "file_extension": ".py",
   "mimetype": "text/x-python",
   "name": "python",
   "nbconvert_exporter": "python",
   "pygments_lexer": "ipython3",
   "version": "3.10.9"
  },
  "papermill": {
   "default_parameters": {},
   "duration": 50.398957,
   "end_time": "2024-01-30T00:17:36.943193",
   "environment_variables": {},
   "exception": null,
   "input_path": "__notebook__.ipynb",
   "output_path": "__notebook__.ipynb",
   "parameters": {},
   "start_time": "2024-01-30T00:16:46.544236",
   "version": "2.4.0"
  }
 },
 "nbformat": 4,
 "nbformat_minor": 5
}
