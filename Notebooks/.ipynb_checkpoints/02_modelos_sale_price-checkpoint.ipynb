{
 "cells": [
  {
   "cell_type": "code",
   "execution_count": 1,
   "id": "e9ce7677",
   "metadata": {},
   "outputs": [],
   "source": [
    "#Librerías\n",
    "import numpy as np \n",
    "import pandas as pd \n",
    "import seaborn as sns \n",
    "import matplotlib.pyplot as plt\n",
    "from sklearn.preprocessing import OrdinalEncoder\n",
    "from sklearn.preprocessing import LabelEncoder\n",
    "from category_encoders.target_encoder import TargetEncoder\n",
    "from category_encoders.leave_one_out import LeaveOneOutEncoder\n",
    "from category_encoders.m_estimate import MEstimateEncoder\n",
    "from scipy import stats\n",
    "from scipy.stats import norm, probplot\n",
    "from sklearn.preprocessing import StandardScaler, OneHotEncoder\n",
    "from sklearn.compose import ColumnTransformer\n",
    "from sklearn.model_selection import train_test_split\n",
    "from sklearn.linear_model import LinearRegression\n",
    "from sklearn.metrics import mean_squared_error, r2_score\n",
    "from sklearn.preprocessing import PolynomialFeatures\n",
    "from sklearn.ensemble import RandomForestRegressor\n",
    "import xgboost as xgb\n",
    "\n",
    "\n",
    "import os\n",
    "for dirname, _, filenames in os.walk('/kaggle/input'):\n",
    "    for filename in filenames:\n",
    "        print(os.path.join(dirname, filename))"
   ]
  },
  {
   "cell_type": "code",
   "execution_count": 2,
   "id": "23e2156f",
   "metadata": {},
   "outputs": [],
   "source": [
    "#Cargar datos\n",
    "X = pd.read_csv(\"../Data/clean/Xs.csv\")\n",
    "y = pd.read_csv(\"../Data/clean/Ys.csv\")\n",
    "test_data = pd.read_csv(\"../Data/raw/test.csv\")"
   ]
  },
  {
   "cell_type": "markdown",
   "id": "7a90c3c7",
   "metadata": {},
   "source": [
    "# Modelos predictivos de ML."
   ]
  },
  {
   "cell_type": "markdown",
   "id": "c6de045a",
   "metadata": {
    "papermill": {
     "duration": 0.057081,
     "end_time": "2024-01-30T00:17:22.274899",
     "exception": false,
     "start_time": "2024-01-30T00:17:22.217818",
     "status": "completed"
    },
    "tags": []
   },
   "source": [
    "### Dividimos los datos en set de entrenamiento y validación."
   ]
  },
  {
   "cell_type": "code",
   "execution_count": 3,
   "id": "249a320b",
   "metadata": {
    "execution": {
     "iopub.execute_input": "2024-01-30T00:17:22.392200Z",
     "iopub.status.busy": "2024-01-30T00:17:22.391670Z",
     "iopub.status.idle": "2024-01-30T00:17:22.406117Z",
     "shell.execute_reply": "2024-01-30T00:17:22.404668Z"
    },
    "papermill": {
     "duration": 0.07618,
     "end_time": "2024-01-30T00:17:22.408704",
     "exception": false,
     "start_time": "2024-01-30T00:17:22.332524",
     "status": "completed"
    },
    "tags": []
   },
   "outputs": [],
   "source": [
    "# Splitting the dataset into training (e.g., 70%) and validation (e.g., 30%) sets\n",
    "X_train, X_test, y_train, y_test = train_test_split(X, y, test_size=0.3, random_state=42)\n",
    "\n",
    "# X_train, y_train are the training data\n",
    "# X_test, y_test are the testing data"
   ]
  },
  {
   "cell_type": "markdown",
   "id": "e7b03722",
   "metadata": {
    "papermill": {
     "duration": 0.055985,
     "end_time": "2024-01-30T00:17:22.520378",
     "exception": false,
     "start_time": "2024-01-30T00:17:22.464393",
     "status": "completed"
    },
    "tags": []
   },
   "source": [
    "### Linear Regression"
   ]
  },
  {
   "cell_type": "code",
   "execution_count": 4,
   "id": "25e7ac0a",
   "metadata": {
    "execution": {
     "iopub.execute_input": "2024-01-30T00:17:22.633104Z",
     "iopub.status.busy": "2024-01-30T00:17:22.632591Z",
     "iopub.status.idle": "2024-01-30T00:17:22.715016Z",
     "shell.execute_reply": "2024-01-30T00:17:22.713592Z"
    },
    "papermill": {
     "duration": 0.143682,
     "end_time": "2024-01-30T00:17:22.719185",
     "exception": false,
     "start_time": "2024-01-30T00:17:22.575503",
     "status": "completed"
    },
    "tags": []
   },
   "outputs": [
    {
     "name": "stdout",
     "output_type": "stream",
     "text": [
      "Mean Squared Error: 7.962147300027166e+24\n",
      "R-squared: -4.693384787282344e+25\n"
     ]
    }
   ],
   "source": [
    "# Create a linear regression model\n",
    "model_lr = LinearRegression()\n",
    "\n",
    "# Fit the model on the training set\n",
    "model_lr.fit(X_train, y_train)\n",
    "\n",
    "# Make predictions on the test set\n",
    "y_pred = model_lr.predict(X_test)\n",
    "\n",
    "\n",
    "# Evaluate the model\n",
    "mse = mean_squared_error(y_test, y_pred)\n",
    "r2 = r2_score(y_test, y_pred)\n",
    "print(f'Mean Squared Error: {mse}')\n",
    "print(f'R-squared: {r2}')"
   ]
  },
  {
   "cell_type": "markdown",
   "id": "58703735",
   "metadata": {
    "papermill": {
     "duration": 0.054934,
     "end_time": "2024-01-30T00:17:22.914360",
     "exception": false,
     "start_time": "2024-01-30T00:17:22.859426",
     "status": "completed"
    },
    "tags": []
   },
   "source": [
    "### Polynomial Regression"
   ]
  },
  {
   "cell_type": "code",
   "execution_count": 5,
   "id": "f1c0ed93",
   "metadata": {
    "execution": {
     "iopub.execute_input": "2024-01-30T00:17:23.029689Z",
     "iopub.status.busy": "2024-01-30T00:17:23.029209Z",
     "iopub.status.idle": "2024-01-30T00:17:26.202555Z",
     "shell.execute_reply": "2024-01-30T00:17:26.201113Z"
    },
    "papermill": {
     "duration": 3.236483,
     "end_time": "2024-01-30T00:17:26.206900",
     "exception": false,
     "start_time": "2024-01-30T00:17:22.970417",
     "status": "completed"
    },
    "tags": []
   },
   "outputs": [
    {
     "name": "stdout",
     "output_type": "stream",
     "text": [
      "Mean Squared Error: 225805010130.12186\n",
      "R-squared: -1331035158609.082\n"
     ]
    }
   ],
   "source": [
    "# Create a PolynomialFeatures object with the degree of the polynomial\n",
    "degree = 2  # We can adjust this value\n",
    "poly = PolynomialFeatures(degree=degree)\n",
    "\n",
    "# Transform the features into polynomial features\n",
    "X_train_poly = poly.fit_transform(X_train)\n",
    "X_test_poly = poly.transform(X_test)\n",
    "\n",
    "# Create a linear regression model\n",
    "model = LinearRegression()\n",
    "\n",
    "# Fit the model on the polynomial-transformed training set\n",
    "model.fit(X_train_poly, y_train)\n",
    "\n",
    "# Make predictions on the polynomial-transformed test set\n",
    "y_pred = model.predict(X_test_poly)\n",
    "\n",
    "# Evaluate the model\n",
    "mse = mean_squared_error(y_test, y_pred)\n",
    "r2 = r2_score(y_test, y_pred)\n",
    "print(f'Mean Squared Error: {mse}')\n",
    "print(f'R-squared: {r2}')"
   ]
  },
  {
   "cell_type": "markdown",
   "id": "d0dcda58",
   "metadata": {
    "papermill": {
     "duration": 0.055068,
     "end_time": "2024-01-30T00:17:33.475886",
     "exception": false,
     "start_time": "2024-01-30T00:17:33.420818",
     "status": "completed"
    },
    "tags": []
   },
   "source": [
    "### XGBOOST model"
   ]
  },
  {
   "cell_type": "code",
   "execution_count": 6,
   "id": "b7e9cc22",
   "metadata": {
    "execution": {
     "iopub.execute_input": "2024-01-30T00:17:33.588053Z",
     "iopub.status.busy": "2024-01-30T00:17:33.587559Z",
     "iopub.status.idle": "2024-01-30T00:17:34.893208Z",
     "shell.execute_reply": "2024-01-30T00:17:34.892055Z"
    },
    "papermill": {
     "duration": 1.365462,
     "end_time": "2024-01-30T00:17:34.896146",
     "exception": false,
     "start_time": "2024-01-30T00:17:33.530684",
     "status": "completed"
    },
    "tags": []
   },
   "outputs": [
    {
     "name": "stdout",
     "output_type": "stream",
     "text": [
      "Mean Squared Error: 0.019698097925591528\n",
      "R-squared: 0.8838871605125244\n"
     ]
    }
   ],
   "source": [
    "# Create an XGBoost regression model\n",
    "xgb_model = xgb.XGBRegressor(objective='reg:squarederror', n_estimators=500, learning_rate=0.1, random_state=42)\n",
    "\n",
    "# Fit the model on the training set\n",
    "xgb_model.fit(X_train, y_train)\n",
    "\n",
    "# Make predictions on the test set\n",
    "y_pred = xgb_model.predict(X_test)\n",
    "\n",
    "# Evaluate the model\n",
    "mse = mean_squared_error(y_test, y_pred)\n",
    "r2 = r2_score(y_test, y_pred)\n",
    "print(f'Mean Squared Error: {mse}')\n",
    "print(f'R-squared: {r2}')"
   ]
  },
  {
   "cell_type": "markdown",
   "id": "c900d9bc",
   "metadata": {},
   "source": [
    "# Resultados"
   ]
  },
  {
   "cell_type": "code",
   "execution_count": 7,
   "id": "aa9a839d",
   "metadata": {
    "execution": {
     "iopub.execute_input": "2024-01-30T00:17:35.126903Z",
     "iopub.status.busy": "2024-01-30T00:17:35.126439Z",
     "iopub.status.idle": "2024-01-30T00:17:35.134908Z",
     "shell.execute_reply": "2024-01-30T00:17:35.133651Z"
    },
    "papermill": {
     "duration": 0.070007,
     "end_time": "2024-01-30T00:17:35.137472",
     "exception": false,
     "start_time": "2024-01-30T00:17:35.067465",
     "status": "completed"
    },
    "tags": []
   },
   "outputs": [
    {
     "data": {
      "text/html": [
       "<div>\n",
       "<style scoped>\n",
       "    .dataframe tbody tr th:only-of-type {\n",
       "        vertical-align: middle;\n",
       "    }\n",
       "\n",
       "    .dataframe tbody tr th {\n",
       "        vertical-align: top;\n",
       "    }\n",
       "\n",
       "    .dataframe thead th {\n",
       "        text-align: right;\n",
       "    }\n",
       "</style>\n",
       "<table border=\"1\" class=\"dataframe\">\n",
       "  <thead>\n",
       "    <tr style=\"text-align: right;\">\n",
       "      <th></th>\n",
       "      <th>OverallCond</th>\n",
       "      <th>latest_contruction</th>\n",
       "      <th>TotalBsmtSF</th>\n",
       "      <th>GrLivArea</th>\n",
       "      <th>GarageArea</th>\n",
       "      <th>ExterQual</th>\n",
       "      <th>ExterCond</th>\n",
       "      <th>BsmtQual</th>\n",
       "      <th>BsmtCond</th>\n",
       "      <th>BsmtExposure</th>\n",
       "      <th>...</th>\n",
       "      <th>GarageType_Detchd</th>\n",
       "      <th>SaleType_COD</th>\n",
       "      <th>SaleType_CWD</th>\n",
       "      <th>SaleType_Con</th>\n",
       "      <th>SaleType_ConLD</th>\n",
       "      <th>SaleType_ConLI</th>\n",
       "      <th>SaleType_ConLw</th>\n",
       "      <th>SaleType_New</th>\n",
       "      <th>SaleType_Oth</th>\n",
       "      <th>SaleType_WD</th>\n",
       "    </tr>\n",
       "  </thead>\n",
       "  <tbody>\n",
       "    <tr>\n",
       "      <th>0</th>\n",
       "      <td>-0.507284</td>\n",
       "      <td>0.896804</td>\n",
       "      <td>-0.444278</td>\n",
       "      <td>0.413547</td>\n",
       "      <td>0.348888</td>\n",
       "      <td>-0.755793</td>\n",
       "      <td>0.376461</td>\n",
       "      <td>-0.294203</td>\n",
       "      <td>0.28567</td>\n",
       "      <td>0.624607</td>\n",
       "      <td>...</td>\n",
       "      <td>-0.603340</td>\n",
       "      <td>-0.175272</td>\n",
       "      <td>-0.064249</td>\n",
       "      <td>-0.041423</td>\n",
       "      <td>-0.094801</td>\n",
       "      <td>-0.055613</td>\n",
       "      <td>-0.052423</td>\n",
       "      <td>-0.298629</td>\n",
       "      <td>-0.049029</td>\n",
       "      <td>0.394439</td>\n",
       "    </tr>\n",
       "    <tr>\n",
       "      <th>1</th>\n",
       "      <td>2.188279</td>\n",
       "      <td>-0.395615</td>\n",
       "      <td>0.477158</td>\n",
       "      <td>-0.471891</td>\n",
       "      <td>-0.059804</td>\n",
       "      <td>0.668455</td>\n",
       "      <td>0.376461</td>\n",
       "      <td>-0.294203</td>\n",
       "      <td>0.28567</td>\n",
       "      <td>-1.158500</td>\n",
       "      <td>...</td>\n",
       "      <td>-0.603340</td>\n",
       "      <td>-0.175272</td>\n",
       "      <td>-0.064249</td>\n",
       "      <td>-0.041423</td>\n",
       "      <td>-0.094801</td>\n",
       "      <td>-0.055613</td>\n",
       "      <td>-0.052423</td>\n",
       "      <td>-0.298629</td>\n",
       "      <td>-0.049029</td>\n",
       "      <td>0.394439</td>\n",
       "    </tr>\n",
       "    <tr>\n",
       "      <th>2</th>\n",
       "      <td>-0.507284</td>\n",
       "      <td>0.848937</td>\n",
       "      <td>-0.299027</td>\n",
       "      <td>0.563755</td>\n",
       "      <td>0.627542</td>\n",
       "      <td>-0.755793</td>\n",
       "      <td>0.376461</td>\n",
       "      <td>-0.294203</td>\n",
       "      <td>0.28567</td>\n",
       "      <td>-0.266947</td>\n",
       "      <td>...</td>\n",
       "      <td>-0.603340</td>\n",
       "      <td>-0.175272</td>\n",
       "      <td>-0.064249</td>\n",
       "      <td>-0.041423</td>\n",
       "      <td>-0.094801</td>\n",
       "      <td>-0.055613</td>\n",
       "      <td>-0.052423</td>\n",
       "      <td>-0.298629</td>\n",
       "      <td>-0.049029</td>\n",
       "      <td>0.394439</td>\n",
       "    </tr>\n",
       "    <tr>\n",
       "      <th>3</th>\n",
       "      <td>-0.507284</td>\n",
       "      <td>-0.682820</td>\n",
       "      <td>-0.671232</td>\n",
       "      <td>0.427382</td>\n",
       "      <td>0.785446</td>\n",
       "      <td>0.668455</td>\n",
       "      <td>0.376461</td>\n",
       "      <td>0.835768</td>\n",
       "      <td>-2.68713</td>\n",
       "      <td>0.624607</td>\n",
       "      <td>...</td>\n",
       "      <td>1.657441</td>\n",
       "      <td>-0.175272</td>\n",
       "      <td>-0.064249</td>\n",
       "      <td>-0.041423</td>\n",
       "      <td>-0.094801</td>\n",
       "      <td>-0.055613</td>\n",
       "      <td>-0.052423</td>\n",
       "      <td>-0.298629</td>\n",
       "      <td>-0.049029</td>\n",
       "      <td>0.394439</td>\n",
       "    </tr>\n",
       "    <tr>\n",
       "      <th>4</th>\n",
       "      <td>-0.507284</td>\n",
       "      <td>0.753202</td>\n",
       "      <td>0.211621</td>\n",
       "      <td>1.378042</td>\n",
       "      <td>1.686426</td>\n",
       "      <td>-0.755793</td>\n",
       "      <td>0.376461</td>\n",
       "      <td>-0.294203</td>\n",
       "      <td>0.28567</td>\n",
       "      <td>-2.050054</td>\n",
       "      <td>...</td>\n",
       "      <td>-0.603340</td>\n",
       "      <td>-0.175272</td>\n",
       "      <td>-0.064249</td>\n",
       "      <td>-0.041423</td>\n",
       "      <td>-0.094801</td>\n",
       "      <td>-0.055613</td>\n",
       "      <td>-0.052423</td>\n",
       "      <td>-0.298629</td>\n",
       "      <td>-0.049029</td>\n",
       "      <td>0.394439</td>\n",
       "    </tr>\n",
       "  </tbody>\n",
       "</table>\n",
       "<p>5 rows × 146 columns</p>\n",
       "</div>"
      ],
      "text/plain": [
       "   OverallCond  latest_contruction  TotalBsmtSF  GrLivArea  GarageArea  \\\n",
       "0    -0.507284            0.896804    -0.444278   0.413547    0.348888   \n",
       "1     2.188279           -0.395615     0.477158  -0.471891   -0.059804   \n",
       "2    -0.507284            0.848937    -0.299027   0.563755    0.627542   \n",
       "3    -0.507284           -0.682820    -0.671232   0.427382    0.785446   \n",
       "4    -0.507284            0.753202     0.211621   1.378042    1.686426   \n",
       "\n",
       "   ExterQual  ExterCond  BsmtQual  BsmtCond  BsmtExposure  ...  \\\n",
       "0  -0.755793   0.376461 -0.294203   0.28567      0.624607  ...   \n",
       "1   0.668455   0.376461 -0.294203   0.28567     -1.158500  ...   \n",
       "2  -0.755793   0.376461 -0.294203   0.28567     -0.266947  ...   \n",
       "3   0.668455   0.376461  0.835768  -2.68713      0.624607  ...   \n",
       "4  -0.755793   0.376461 -0.294203   0.28567     -2.050054  ...   \n",
       "\n",
       "   GarageType_Detchd  SaleType_COD  SaleType_CWD  SaleType_Con  \\\n",
       "0          -0.603340     -0.175272     -0.064249     -0.041423   \n",
       "1          -0.603340     -0.175272     -0.064249     -0.041423   \n",
       "2          -0.603340     -0.175272     -0.064249     -0.041423   \n",
       "3           1.657441     -0.175272     -0.064249     -0.041423   \n",
       "4          -0.603340     -0.175272     -0.064249     -0.041423   \n",
       "\n",
       "   SaleType_ConLD  SaleType_ConLI  SaleType_ConLw  SaleType_New  SaleType_Oth  \\\n",
       "0       -0.094801       -0.055613       -0.052423     -0.298629     -0.049029   \n",
       "1       -0.094801       -0.055613       -0.052423     -0.298629     -0.049029   \n",
       "2       -0.094801       -0.055613       -0.052423     -0.298629     -0.049029   \n",
       "3       -0.094801       -0.055613       -0.052423     -0.298629     -0.049029   \n",
       "4       -0.094801       -0.055613       -0.052423     -0.298629     -0.049029   \n",
       "\n",
       "   SaleType_WD  \n",
       "0     0.394439  \n",
       "1     0.394439  \n",
       "2     0.394439  \n",
       "3     0.394439  \n",
       "4     0.394439  \n",
       "\n",
       "[5 rows x 146 columns]"
      ]
     },
     "execution_count": 7,
     "metadata": {},
     "output_type": "execute_result"
    }
   ],
   "source": [
    "test_data_v2 = X\n",
    "test_data_v2.head()"
   ]
  },
  {
   "cell_type": "code",
   "execution_count": 8,
   "id": "199ab25f",
   "metadata": {
    "execution": {
     "iopub.execute_input": "2024-01-30T00:17:35.258515Z",
     "iopub.status.busy": "2024-01-30T00:17:35.257272Z",
     "iopub.status.idle": "2024-01-30T00:17:35.302334Z",
     "shell.execute_reply": "2024-01-30T00:17:35.301262Z"
    },
    "papermill": {
     "duration": 0.107966,
     "end_time": "2024-01-30T00:17:35.305315",
     "exception": false,
     "start_time": "2024-01-30T00:17:35.197349",
     "status": "completed"
    },
    "tags": []
   },
   "outputs": [
    {
     "ename": "AttributeError",
     "evalue": "'numpy.ndarray' object has no attribute 'head'",
     "output_type": "error",
     "traceback": [
      "\u001b[0;31m---------------------------------------------------------------------------\u001b[0m",
      "\u001b[0;31mAttributeError\u001b[0m                            Traceback (most recent call last)",
      "Cell \u001b[0;32mIn[8], line 3\u001b[0m\n\u001b[1;32m      1\u001b[0m predict \u001b[38;5;241m=\u001b[39m xgb_model\u001b[38;5;241m.\u001b[39mpredict(test_data_v2)\n\u001b[1;32m      2\u001b[0m y_pred \u001b[38;5;241m=\u001b[39m np\u001b[38;5;241m.\u001b[39mexp(predict)\n\u001b[0;32m----> 3\u001b[0m \u001b[43my_pred\u001b[49m\u001b[38;5;241;43m.\u001b[39;49m\u001b[43mhead\u001b[49m()\n",
      "\u001b[0;31mAttributeError\u001b[0m: 'numpy.ndarray' object has no attribute 'head'"
     ]
    }
   ],
   "source": [
    "predict = xgb_model.predict(test_data_v2)\n",
    "y_pred = np.exp(predict)"
   ]
  },
  {
   "cell_type": "code",
   "execution_count": null,
   "id": "c814f906",
   "metadata": {
    "execution": {
     "iopub.execute_input": "2024-01-30T00:17:35.422102Z",
     "iopub.status.busy": "2024-01-30T00:17:35.421654Z",
     "iopub.status.idle": "2024-01-30T00:17:35.428152Z",
     "shell.execute_reply": "2024-01-30T00:17:35.426980Z"
    },
    "papermill": {
     "duration": 0.068205,
     "end_time": "2024-01-30T00:17:35.431118",
     "exception": false,
     "start_time": "2024-01-30T00:17:35.362913",
     "status": "completed"
    },
    "tags": []
   },
   "outputs": [],
   "source": [
    "submission_df = pd.DataFrame({\n",
    "    'Id': test_data['Id'],\n",
    "    'SalePrice': y_pred\n",
    "})"
   ]
  },
  {
   "cell_type": "code",
   "execution_count": null,
   "id": "9ef68b55",
   "metadata": {
    "execution": {
     "iopub.execute_input": "2024-01-30T00:17:35.543304Z",
     "iopub.status.busy": "2024-01-30T00:17:35.542441Z",
     "iopub.status.idle": "2024-01-30T00:17:35.557887Z",
     "shell.execute_reply": "2024-01-30T00:17:35.556555Z"
    },
    "papermill": {
     "duration": 0.07496,
     "end_time": "2024-01-30T00:17:35.561074",
     "exception": false,
     "start_time": "2024-01-30T00:17:35.486114",
     "status": "completed"
    },
    "tags": []
   },
   "outputs": [],
   "source": [
    "submission_df.to_csv('../Data/output/submission.csv',index=False)"
   ]
  },
  {
   "cell_type": "code",
   "execution_count": null,
   "id": "5994bcd2",
   "metadata": {},
   "outputs": [],
   "source": []
  }
 ],
 "metadata": {
  "kaggle": {
   "accelerator": "none",
   "dataSources": [
    {
     "databundleVersionId": 868283,
     "sourceId": 5407,
     "sourceType": "competition"
    }
   ],
   "dockerImageVersionId": 30626,
   "isGpuEnabled": false,
   "isInternetEnabled": false,
   "language": "python",
   "sourceType": "notebook"
  },
  "kernelspec": {
   "display_name": "Python 3 (ipykernel)",
   "language": "python",
   "name": "python3"
  },
  "language_info": {
   "codemirror_mode": {
    "name": "ipython",
    "version": 3
   },
   "file_extension": ".py",
   "mimetype": "text/x-python",
   "name": "python",
   "nbconvert_exporter": "python",
   "pygments_lexer": "ipython3",
   "version": "3.10.9"
  },
  "papermill": {
   "default_parameters": {},
   "duration": 50.398957,
   "end_time": "2024-01-30T00:17:36.943193",
   "environment_variables": {},
   "exception": null,
   "input_path": "__notebook__.ipynb",
   "output_path": "__notebook__.ipynb",
   "parameters": {},
   "start_time": "2024-01-30T00:16:46.544236",
   "version": "2.4.0"
  }
 },
 "nbformat": 4,
 "nbformat_minor": 5
}
