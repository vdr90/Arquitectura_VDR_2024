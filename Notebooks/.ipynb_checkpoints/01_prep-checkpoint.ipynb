{
 "cells": [
  {
   "cell_type": "code",
   "execution_count": 1,
   "id": "d594bbaf",
   "metadata": {
    "_cell_guid": "b1076dfc-b9ad-4769-8c92-a6c4dae69d19",
    "_uuid": "8f2839f25d086af736a60e9eeb907d3b93b6e0e5",
    "execution": {
     "iopub.execute_input": "2024-01-30T00:16:51.572171Z",
     "iopub.status.busy": "2024-01-30T00:16:51.571540Z",
     "iopub.status.idle": "2024-01-30T00:16:55.763058Z",
     "shell.execute_reply": "2024-01-30T00:16:55.761750Z"
    },
    "papermill": {
     "duration": 4.228389,
     "end_time": "2024-01-30T00:16:55.765906",
     "exception": false,
     "start_time": "2024-01-30T00:16:51.537517",
     "status": "completed"
    },
    "tags": []
   },
   "outputs": [],
   "source": [
    "#Librerías\n",
    "\n",
    "import numpy as np \n",
    "import pandas as pd \n",
    "import seaborn as sns \n",
    "import matplotlib.pyplot as plt\n",
    "from sklearn.preprocessing import OrdinalEncoder\n",
    "from sklearn.preprocessing import LabelEncoder\n",
    "from category_encoders.target_encoder import TargetEncoder\n",
    "from category_encoders.leave_one_out import LeaveOneOutEncoder\n",
    "from category_encoders.m_estimate import MEstimateEncoder\n",
    "from scipy import stats\n",
    "from scipy.stats import norm, probplot\n",
    "from sklearn.preprocessing import StandardScaler, OneHotEncoder\n",
    "from sklearn.compose import ColumnTransformer\n",
    "from sklearn.model_selection import train_test_split\n",
    "from sklearn.linear_model import LinearRegression\n",
    "from sklearn.metrics import mean_squared_error, r2_score\n",
    "from sklearn.preprocessing import PolynomialFeatures\n",
    "from sklearn.ensemble import RandomForestRegressor\n",
    "import xgboost as xgb\n",
    "\n",
    "\n",
    "import os\n",
    "for dirname, _, filenames in os.walk('/kaggle/input'):\n",
    "    for filename in filenames:\n",
    "        print(os.path.join(dirname, filename))"
   ]
  },
  {
   "cell_type": "code",
   "execution_count": 2,
   "id": "02ebbdd0",
   "metadata": {
    "execution": {
     "iopub.execute_input": "2024-01-30T00:16:55.894099Z",
     "iopub.status.busy": "2024-01-30T00:16:55.893331Z",
     "iopub.status.idle": "2024-01-30T00:16:56.010146Z",
     "shell.execute_reply": "2024-01-30T00:16:56.008583Z"
    },
    "papermill": {
     "duration": 0.153353,
     "end_time": "2024-01-30T00:16:56.013535",
     "exception": false,
     "start_time": "2024-01-30T00:16:55.860182",
     "status": "completed"
    },
    "tags": []
   },
   "outputs": [],
   "source": [
    "# Cargar datos\n",
    "tr_data = pd.read_csv(\"../Data/raw/train.csv\")\n",
    "test_data = pd.read_csv(\"../Data/raw/test.csv\")"
   ]
  },
  {
   "cell_type": "code",
   "execution_count": 3,
   "id": "ec6dd0cb",
   "metadata": {
    "execution": {
     "iopub.execute_input": "2024-01-30T00:16:56.143693Z",
     "iopub.status.busy": "2024-01-30T00:16:56.142416Z",
     "iopub.status.idle": "2024-01-30T00:16:56.188461Z",
     "shell.execute_reply": "2024-01-30T00:16:56.187130Z"
    },
    "papermill": {
     "duration": 0.083033,
     "end_time": "2024-01-30T00:16:56.192118",
     "exception": false,
     "start_time": "2024-01-30T00:16:56.109085",
     "status": "completed"
    },
    "tags": []
   },
   "outputs": [],
   "source": [
    "#Concatenar\n",
    "# etiquetas 1 & 0 para train y test data \n",
    "tr_data['is_train'] = 1\n",
    "test_data['is_train'] = 0\n",
    "\n",
    "# Combinación\n",
    "train_data = pd.concat([tr_data, test_data], sort=False).reset_index(drop=True)\n",
    "\n",
    "# Nuevos dataframes\n",
    "salesprice = pd.DataFrame()\n",
    "indicator = pd.DataFrame()\n",
    "\n",
    "salesprice = train_data['SalePrice']\n",
    "indicator = train_data['is_train']"
   ]
  },
  {
   "cell_type": "code",
   "execution_count": 4,
   "id": "5f790402",
   "metadata": {
    "execution": {
     "iopub.execute_input": "2024-01-30T00:16:56.864825Z",
     "iopub.status.busy": "2024-01-30T00:16:56.864393Z",
     "iopub.status.idle": "2024-01-30T00:16:56.889209Z",
     "shell.execute_reply": "2024-01-30T00:16:56.887663Z"
    },
    "papermill": {
     "duration": 0.062717,
     "end_time": "2024-01-30T00:16:56.892480",
     "exception": false,
     "start_time": "2024-01-30T00:16:56.829763",
     "status": "completed"
    },
    "tags": []
   },
   "outputs": [],
   "source": [
    "# Quito los datos que no tienen más del 80% de los datos llenos\n",
    "\n",
    "threshold = 0.8  \n",
    "train_data.dropna(thresh=len(train_data) * threshold, axis=1, inplace = True)"
   ]
  },
  {
   "cell_type": "code",
   "execution_count": 5,
   "id": "6d6a6db8",
   "metadata": {
    "execution": {
     "iopub.execute_input": "2024-01-30T00:16:57.035926Z",
     "iopub.status.busy": "2024-01-30T00:16:57.035499Z",
     "iopub.status.idle": "2024-01-30T00:16:57.041992Z",
     "shell.execute_reply": "2024-01-30T00:16:57.041121Z"
    },
    "papermill": {
     "duration": 0.049566,
     "end_time": "2024-01-30T00:16:57.044473",
     "exception": false,
     "start_time": "2024-01-30T00:16:56.994907",
     "status": "completed"
    },
    "tags": []
   },
   "outputs": [],
   "source": [
    "# Columnas numéricas y categóricas\n",
    "train_data_num = train_data.select_dtypes(exclude=['object'])\n",
    "train_data_cat = train_data.select_dtypes(include=['object'])"
   ]
  },
  {
   "cell_type": "code",
   "execution_count": 6,
   "id": "19769c92",
   "metadata": {
    "execution": {
     "iopub.execute_input": "2024-01-30T00:17:00.355911Z",
     "iopub.status.busy": "2024-01-30T00:17:00.355113Z",
     "iopub.status.idle": "2024-01-30T00:17:00.387544Z",
     "shell.execute_reply": "2024-01-30T00:17:00.385921Z"
    },
    "papermill": {
     "duration": 0.075658,
     "end_time": "2024-01-30T00:17:00.391083",
     "exception": false,
     "start_time": "2024-01-30T00:17:00.315425",
     "status": "completed"
    },
    "tags": []
   },
   "outputs": [],
   "source": [
    "from statsmodels.stats.outliers_influence import variance_inflation_factor\n",
    "\n",
    "numerical_features = ['OverallCond', 'YearBuilt', 'YearRemodAdd', 'TotalBsmtSF', '1stFlrSF', 'GrLivArea', 'FullBath','TotRmsAbvGrd', 'GarageCars', 'GarageArea'] \n",
    "\n",
    "# Asegurando que train_data_num contenga solo las características numéricas especificadas\n",
    "train_data_num = train_data_num[numerical_features]\n",
    "\n",
    "# Lidiando con los missing values\n",
    "def median_imputation(data):\n",
    "    for col in data.columns:\n",
    "        median = data[col].median()\n",
    "        data[col].fillna(median, inplace=True)\n",
    "    return data\n",
    "\n",
    "# Calculando la mediana del train_data_num\n",
    "train_data_num = median_imputation(train_data_num)\n",
    "\n",
    "# Llenado de las variables numéricas\n",
    "total = train_data_num.isnull().sum().sort_values(ascending=False)\n",
    "percent = (train_data_num.isnull().sum()*100/train_data_num.isnull().count()).sort_values(ascending=False)\n",
    "missing_data = pd.concat([total,100- percent], axis=1, keys=['Total', 'Fill rate of the Features'])\n",
    "#missing_data.head(20)"
   ]
  },
  {
   "cell_type": "code",
   "execution_count": 7,
   "id": "cda12bd4",
   "metadata": {},
   "outputs": [],
   "source": [
    "train_data_num['latest_contruction'] = train_data_num[['YearBuilt', 'YearRemodAdd']].max(axis=1)\n",
    "train_data_num.drop(['YearBuilt', 'YearRemodAdd'], axis=1, inplace=True)\n",
    "\n",
    "tr_data['latest_contruction'] = tr_data[['YearBuilt', 'YearRemodAdd']].max(axis=1)\n",
    "tr_data.drop(['YearBuilt', 'YearRemodAdd'], axis=1, inplace=True)"
   ]
  },
  {
   "cell_type": "code",
   "execution_count": 8,
   "id": "27de2e28",
   "metadata": {
    "execution": {
     "iopub.execute_input": "2024-01-30T00:17:16.225200Z",
     "iopub.status.busy": "2024-01-30T00:17:16.224690Z",
     "iopub.status.idle": "2024-01-30T00:17:16.232846Z",
     "shell.execute_reply": "2024-01-30T00:17:16.231215Z"
    },
    "papermill": {
     "duration": 0.067181,
     "end_time": "2024-01-30T00:17:16.235927",
     "exception": false,
     "start_time": "2024-01-30T00:17:16.168746",
     "status": "completed"
    },
    "tags": []
   },
   "outputs": [],
   "source": [
    "# Lista de 5 características seleccionadas.\n",
    "selected_features = ['OverallCond', 'latest_contruction', 'TotalBsmtSF', 'GrLivArea', 'GarageArea']\n",
    "\n",
    "# DataFrame con las 5 características seleccionadas.\n",
    "train_data_num = train_data_num[selected_features]"
   ]
  },
  {
   "cell_type": "code",
   "execution_count": 9,
   "id": "a3b1d1d5",
   "metadata": {
    "execution": {
     "iopub.execute_input": "2024-01-30T00:17:16.755938Z",
     "iopub.status.busy": "2024-01-30T00:17:16.755437Z",
     "iopub.status.idle": "2024-01-30T00:17:16.776770Z",
     "shell.execute_reply": "2024-01-30T00:17:16.775565Z"
    },
    "papermill": {
     "duration": 0.078798,
     "end_time": "2024-01-30T00:17:16.779730",
     "exception": false,
     "start_time": "2024-01-30T00:17:16.700932",
     "status": "completed"
    },
    "tags": []
   },
   "outputs": [],
   "source": [
    "# Estandarizamos los datos en ***train_data_num*** - Esto mejora la eficiencia de los modelos de ML.\n",
    "from sklearn.preprocessing import StandardScaler, OneHotEncoder\n",
    "from sklearn.compose import ColumnTransformer\n",
    "\n",
    "# Applying StandardScaler to only numerical columns\n",
    "scaler = StandardScaler()\n",
    "train_data_num = pd.DataFrame(scaler.fit_transform(train_data_num), columns=train_data_num.columns)\n",
    "#train_data_num.head()"
   ]
  },
  {
   "cell_type": "code",
   "execution_count": 10,
   "id": "773820c7",
   "metadata": {
    "execution": {
     "iopub.execute_input": "2024-01-30T00:17:17.531497Z",
     "iopub.status.busy": "2024-01-30T00:17:17.531004Z",
     "iopub.status.idle": "2024-01-30T00:17:17.617570Z",
     "shell.execute_reply": "2024-01-30T00:17:17.615856Z"
    },
    "papermill": {
     "duration": 0.144231,
     "end_time": "2024-01-30T00:17:17.620463",
     "exception": false,
     "start_time": "2024-01-30T00:17:17.476232",
     "status": "completed"
    },
    "tags": []
   },
   "outputs": [],
   "source": [
    "# Initialize df_stats with specified columns which indicate the metrics for analysis\n",
    "df_stats = pd.DataFrame(columns=['column', 'Distinct_value_incl_na', 'Distinct_value_without_na', \n",
    "                                 'missing_val', '%_missing_val'])\n",
    "\n",
    "# List to hold the data for each column\n",
    "stats = []\n",
    "\n",
    "for c in train_data_cat.columns:\n",
    "    column_stats = {\n",
    "        'column': c,\n",
    "        'Distinct_value_incl_na': len(list(train_data_cat[c].unique())),\n",
    "        'Distinct_value_without_na': int(train_data_cat[c].nunique()),\n",
    "        'missing_val': train_data_cat[c].isnull().sum(),\n",
    "        '%_missing_val': (train_data_cat[c].isnull().sum() / len(train_data_cat)).round(3) * 100\n",
    "    }\n",
    "    stats.append(column_stats)\n",
    "\n",
    "# Convert the list of dictionaries to a DataFrame\n",
    "df_stats = pd.DataFrame(stats)\n",
    "#df_stats.head()"
   ]
  },
  {
   "cell_type": "code",
   "execution_count": 11,
   "id": "be047e26",
   "metadata": {
    "execution": {
     "iopub.execute_input": "2024-01-30T00:17:17.826240Z",
     "iopub.status.busy": "2024-01-30T00:17:17.824942Z",
     "iopub.status.idle": "2024-01-30T00:17:17.892719Z",
     "shell.execute_reply": "2024-01-30T00:17:17.891106Z"
    },
    "papermill": {
     "duration": 0.123222,
     "end_time": "2024-01-30T00:17:17.895900",
     "exception": false,
     "start_time": "2024-01-30T00:17:17.772678",
     "status": "completed"
    },
    "tags": []
   },
   "outputs": [],
   "source": [
    "# Impute the features before encoding it.\n",
    "\n",
    "def mode_imputation(train_data_cat):\n",
    " \n",
    "    for col in train_data_cat.columns:\n",
    "        mode = train_data_cat[col].mode().iloc[0]\n",
    "        train_data_cat[col] = train_data_cat[col].fillna(mode)\n",
    "    return train_data_cat\n",
    "\n",
    "train_data_cat = mode_imputation(train_data_cat)"
   ]
  },
  {
   "cell_type": "code",
   "execution_count": 12,
   "id": "1115f2d6",
   "metadata": {
    "execution": {
     "iopub.execute_input": "2024-01-30T00:17:18.382718Z",
     "iopub.status.busy": "2024-01-30T00:17:18.381369Z",
     "iopub.status.idle": "2024-01-30T00:17:18.389667Z",
     "shell.execute_reply": "2024-01-30T00:17:18.388413Z"
    },
    "papermill": {
     "duration": 0.064422,
     "end_time": "2024-01-30T00:17:18.392053",
     "exception": false,
     "start_time": "2024-01-30T00:17:18.327631",
     "status": "completed"
    },
    "tags": []
   },
   "outputs": [],
   "source": [
    "nominal_cols = ['MSZoning', 'Street','LandContour','Neighborhood','Condition1','Condition2',\n",
    "                'RoofStyle','RoofMatl','Exterior1st','Exterior2nd','Heating','GarageType','SaleType','SaleCondition']\n",
    "ordinal_cols = ['ExterQual','ExterCond','BsmtQual','BsmtCond','BsmtExposure','BsmtFinType1',\n",
    "                'BsmtFinType2','HeatingQC','CentralAir','Electrical','KitchenQual','Functional','GarageFinish','GarageQual','GarageCond','PavedDrive','LotShape',\n",
    "                'Utilities','LandSlope','BldgType','HouseStyle','LotConfig']\n"
   ]
  },
  {
   "cell_type": "code",
   "execution_count": 13,
   "id": "fb193862",
   "metadata": {
    "execution": {
     "iopub.execute_input": "2024-01-30T00:17:18.594737Z",
     "iopub.status.busy": "2024-01-30T00:17:18.594333Z",
     "iopub.status.idle": "2024-01-30T00:17:18.604969Z",
     "shell.execute_reply": "2024-01-30T00:17:18.603374Z"
    },
    "papermill": {
     "duration": 0.066015,
     "end_time": "2024-01-30T00:17:18.607900",
     "exception": false,
     "start_time": "2024-01-30T00:17:18.541885",
     "status": "completed"
    },
    "tags": []
   },
   "outputs": [],
   "source": [
    "#Dividimos las variables categóricas en 2, ordinales y nominales\n",
    "train_ordinal = train_data_cat[ordinal_cols]\n",
    "train_nominal = train_data_cat[nominal_cols]"
   ]
  },
  {
   "cell_type": "code",
   "execution_count": 14,
   "id": "86b7ea3f",
   "metadata": {
    "execution": {
     "iopub.execute_input": "2024-01-30T00:17:18.817326Z",
     "iopub.status.busy": "2024-01-30T00:17:18.816384Z",
     "iopub.status.idle": "2024-01-30T00:17:18.873736Z",
     "shell.execute_reply": "2024-01-30T00:17:18.872148Z"
    },
    "papermill": {
     "duration": 0.114357,
     "end_time": "2024-01-30T00:17:18.877545",
     "exception": false,
     "start_time": "2024-01-30T00:17:18.763188",
     "status": "completed"
    },
    "tags": []
   },
   "outputs": [],
   "source": [
    "# Let's label encode the ordinal data\n",
    "def label_encode(train_ordinal):\n",
    "    \"\"\"\n",
    "    Label encoding of the categorical features\n",
    "    \"\"\"\n",
    "    '''Create a copy of train_ordinal'''\n",
    "    train_ordinal_encoded = train_ordinal.copy()\n",
    "    lab_enc_dict = {}\n",
    "    for col in train_ordinal_encoded:\n",
    "        lab_enc_dict[col] = LabelEncoder()\n",
    "        train_ordinal_encoded[col] = lab_enc_dict[col].fit_transform(train_ordinal[col])\n",
    "    return train_ordinal_encoded\n",
    "\n",
    "train_ordinal_encoded = label_encode(train_ordinal)\n",
    "#train_ordinal_encoded.head()"
   ]
  },
  {
   "cell_type": "code",
   "execution_count": 15,
   "id": "993b07f2",
   "metadata": {
    "execution": {
     "iopub.execute_input": "2024-01-30T00:17:19.103597Z",
     "iopub.status.busy": "2024-01-30T00:17:19.103132Z",
     "iopub.status.idle": "2024-01-30T00:17:19.153007Z",
     "shell.execute_reply": "2024-01-30T00:17:19.151034Z"
    },
    "papermill": {
     "duration": 0.110054,
     "end_time": "2024-01-30T00:17:19.156358",
     "exception": false,
     "start_time": "2024-01-30T00:17:19.046304",
     "status": "completed"
    },
    "tags": []
   },
   "outputs": [],
   "source": [
    "# Let's do one-hot encoding for the nominal data\n",
    "def onehot_encode(train_nominal):\n",
    "    train_onehot_encoded = pd.get_dummies(train_nominal[train_nominal.columns[:-1]])\n",
    "    return train_onehot_encoded\n",
    "\n",
    "train_nominal_onehot_encoded = onehot_encode(train_nominal)\n",
    "\n",
    "# If the encoded DataFrame contains True/False, convert them to 0/1\n",
    "train_nominal_onehot_encoded = train_nominal_onehot_encoded.astype(int)\n",
    "#train_nominal_onehot_encoded.head()"
   ]
  },
  {
   "cell_type": "code",
   "execution_count": 16,
   "id": "f5f03e51",
   "metadata": {
    "execution": {
     "iopub.execute_input": "2024-01-30T00:17:19.268408Z",
     "iopub.status.busy": "2024-01-30T00:17:19.266906Z",
     "iopub.status.idle": "2024-01-30T00:17:19.333286Z",
     "shell.execute_reply": "2024-01-30T00:17:19.332096Z"
    },
    "papermill": {
     "duration": 0.125409,
     "end_time": "2024-01-30T00:17:19.336012",
     "exception": false,
     "start_time": "2024-01-30T00:17:19.210603",
     "status": "completed"
    },
    "tags": []
   },
   "outputs": [],
   "source": [
    "total = train_data_cat.isnull().sum().sort_values(ascending=False)\n",
    "percent = (train_data_cat.isnull().sum()*100/train_data_cat.isnull().count()).sort_values(ascending=False)\n",
    "missing_data = pd.concat([total, 100-percent], axis=1, keys=['Total', 'Fill rate of the Features'])\n",
    "#missing_data.head(20)"
   ]
  },
  {
   "cell_type": "code",
   "execution_count": 17,
   "id": "8f763f01",
   "metadata": {
    "execution": {
     "iopub.execute_input": "2024-01-30T00:17:19.558311Z",
     "iopub.status.busy": "2024-01-30T00:17:19.556874Z",
     "iopub.status.idle": "2024-01-30T00:17:19.610383Z",
     "shell.execute_reply": "2024-01-30T00:17:19.609131Z"
    },
    "papermill": {
     "duration": 0.114068,
     "end_time": "2024-01-30T00:17:19.612973",
     "exception": false,
     "start_time": "2024-01-30T00:17:19.498905",
     "status": "completed"
    },
    "tags": []
   },
   "outputs": [],
   "source": [
    "# Concatenate\n",
    "train_data_cat = pd.concat([train_ordinal_encoded, train_nominal_onehot_encoded], axis=1)\n",
    "\n",
    "# Applying StandardScaler \n",
    "scaler = StandardScaler()\n",
    "train_data_cat = pd.DataFrame(scaler.fit_transform(train_data_cat), columns=train_data_cat.columns)\n",
    "#train_data_cat.head()"
   ]
  },
  {
   "cell_type": "code",
   "execution_count": 18,
   "id": "e7ea1481",
   "metadata": {
    "execution": {
     "iopub.execute_input": "2024-01-30T00:17:19.828404Z",
     "iopub.status.busy": "2024-01-30T00:17:19.827905Z",
     "iopub.status.idle": "2024-01-30T00:17:19.840056Z",
     "shell.execute_reply": "2024-01-30T00:17:19.838823Z"
    },
    "papermill": {
     "duration": 0.069434,
     "end_time": "2024-01-30T00:17:19.842768",
     "exception": false,
     "start_time": "2024-01-30T00:17:19.773334",
     "status": "completed"
    },
    "tags": []
   },
   "outputs": [],
   "source": [
    "# Concatenate the numerical and categorical dataframes and add the flag for train-test data and also the target variable.\n",
    "train_data_v1 = pd.concat([train_data_num, train_data_cat], axis=1)\n",
    "train_data_v1['SalePrice'] = salesprice\n",
    "train_data_v1['indicator'] = indicator\n",
    "#train_data_v1.columns"
   ]
  },
  {
   "cell_type": "code",
   "execution_count": 19,
   "id": "a83aed32",
   "metadata": {
    "execution": {
     "iopub.execute_input": "2024-01-30T00:17:19.953178Z",
     "iopub.status.busy": "2024-01-30T00:17:19.951933Z",
     "iopub.status.idle": "2024-01-30T00:17:19.966233Z",
     "shell.execute_reply": "2024-01-30T00:17:19.965118Z"
    },
    "papermill": {
     "duration": 0.07331,
     "end_time": "2024-01-30T00:17:19.968996",
     "exception": false,
     "start_time": "2024-01-30T00:17:19.895686",
     "status": "completed"
    },
    "tags": []
   },
   "outputs": [],
   "source": [
    "# Let's eliminate the flag column after the data segregation\n",
    "train_data_v2 = train_data_v1[train_data_v1['indicator'] == 1].drop(columns=['indicator'])\n",
    "test_data_v2 = train_data_v1[train_data_v1['indicator'] == 0].drop(columns=['indicator'])"
   ]
  },
  {
   "cell_type": "code",
   "execution_count": 20,
   "id": "bcdd0f37",
   "metadata": {
    "execution": {
     "iopub.execute_input": "2024-01-30T00:17:20.918673Z",
     "iopub.status.busy": "2024-01-30T00:17:20.918248Z",
     "iopub.status.idle": "2024-01-30T00:17:20.924657Z",
     "shell.execute_reply": "2024-01-30T00:17:20.923287Z"
    },
    "papermill": {
     "duration": 0.064102,
     "end_time": "2024-01-30T00:17:20.927206",
     "exception": false,
     "start_time": "2024-01-30T00:17:20.863104",
     "status": "completed"
    },
    "tags": []
   },
   "outputs": [],
   "source": [
    "# Applying log transformation to SalePrice field\n",
    "train_data_v2['SalePrice'] = np.log(train_data_v2['SalePrice'])"
   ]
  },
  {
   "cell_type": "code",
   "execution_count": 21,
   "id": "249a320b",
   "metadata": {
    "execution": {
     "iopub.execute_input": "2024-01-30T00:17:22.392200Z",
     "iopub.status.busy": "2024-01-30T00:17:22.391670Z",
     "iopub.status.idle": "2024-01-30T00:17:22.406117Z",
     "shell.execute_reply": "2024-01-30T00:17:22.404668Z"
    },
    "papermill": {
     "duration": 0.07618,
     "end_time": "2024-01-30T00:17:22.408704",
     "exception": false,
     "start_time": "2024-01-30T00:17:22.332524",
     "status": "completed"
    },
    "tags": []
   },
   "outputs": [],
   "source": [
    "#train and validation data\n",
    "X = train_data_v2.drop('SalePrice', axis=1)  # Features (all columns except the target variable)\n",
    "y = train_data_v2['SalePrice']               # Target variable\n",
    "\n",
    "# Splitting the dataset into training (e.g., 70%) and validation (e.g., 30%) sets\n",
    "#X_train, X_test, y_train, y_test = train_test_split(X, y, test_size=0.3, random_state=42)\n",
    "\n",
    "# X_train, y_train are the training data\n",
    "# X_test, y_test are the testing data"
   ]
  },
  {
   "cell_type": "code",
   "execution_count": 22,
   "id": "20982912",
   "metadata": {},
   "outputs": [],
   "source": [
    "#Exportamos los datos limpios\n",
    "X.to_csv('../Data/clean/Xs.csv', index=False)\n",
    "y.to_csv('../Data/clean/Ys.csv', index=False)"
   ]
  }
 ],
 "metadata": {
  "kaggle": {
   "accelerator": "none",
   "dataSources": [
    {
     "databundleVersionId": 868283,
     "sourceId": 5407,
     "sourceType": "competition"
    }
   ],
   "dockerImageVersionId": 30626,
   "isGpuEnabled": false,
   "isInternetEnabled": false,
   "language": "python",
   "sourceType": "notebook"
  },
  "kernelspec": {
   "display_name": "Python 3 (ipykernel)",
   "language": "python",
   "name": "python3"
  },
  "language_info": {
   "codemirror_mode": {
    "name": "ipython",
    "version": 3
   },
   "file_extension": ".py",
   "mimetype": "text/x-python",
   "name": "python",
   "nbconvert_exporter": "python",
   "pygments_lexer": "ipython3",
   "version": "3.10.9"
  },
  "papermill": {
   "default_parameters": {},
   "duration": 50.398957,
   "end_time": "2024-01-30T00:17:36.943193",
   "environment_variables": {},
   "exception": null,
   "input_path": "__notebook__.ipynb",
   "output_path": "__notebook__.ipynb",
   "parameters": {},
   "start_time": "2024-01-30T00:16:46.544236",
   "version": "2.4.0"
  }
 },
 "nbformat": 4,
 "nbformat_minor": 5
}
