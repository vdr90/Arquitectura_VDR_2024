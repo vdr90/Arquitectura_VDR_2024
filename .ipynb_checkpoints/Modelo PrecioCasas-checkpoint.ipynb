{
 "cells": [
  {
   "cell_type": "markdown",
   "id": "629396e2",
   "metadata": {},
   "source": [
    "### Tarea 2\n",
    "### Valeria Durán Rubio\n",
    "### C.U.: 124273"
   ]
  },
  {
   "cell_type": "code",
   "execution_count": null,
   "id": "d594bbaf",
   "metadata": {
    "_cell_guid": "b1076dfc-b9ad-4769-8c92-a6c4dae69d19",
    "_uuid": "8f2839f25d086af736a60e9eeb907d3b93b6e0e5",
    "execution": {
     "iopub.execute_input": "2024-01-30T00:16:51.572171Z",
     "iopub.status.busy": "2024-01-30T00:16:51.571540Z",
     "iopub.status.idle": "2024-01-30T00:16:55.763058Z",
     "shell.execute_reply": "2024-01-30T00:16:55.761750Z"
    },
    "papermill": {
     "duration": 4.228389,
     "end_time": "2024-01-30T00:16:55.765906",
     "exception": false,
     "start_time": "2024-01-30T00:16:51.537517",
     "status": "completed"
    },
    "tags": []
   },
   "outputs": [],
   "source": [
    "#Librerías\n",
    "\n",
    "import numpy as np \n",
    "import pandas as pd \n",
    "import seaborn as sns \n",
    "import matplotlib.pyplot as plt\n",
    "from sklearn.preprocessing import OrdinalEncoder\n",
    "from sklearn.preprocessing import LabelEncoder\n",
    "from category_encoders.target_encoder import TargetEncoder\n",
    "from category_encoders.leave_one_out import LeaveOneOutEncoder\n",
    "from category_encoders.m_estimate import MEstimateEncoder\n",
    "from scipy import stats\n",
    "from scipy.stats import norm, probplot\n",
    "from sklearn.preprocessing import StandardScaler, OneHotEncoder\n",
    "from sklearn.compose import ColumnTransformer\n",
    "from sklearn.model_selection import train_test_split\n",
    "from sklearn.linear_model import LinearRegression\n",
    "from sklearn.metrics import mean_squared_error, r2_score\n",
    "from sklearn.preprocessing import PolynomialFeatures\n",
    "from sklearn.ensemble import RandomForestRegressor\n",
    "import xgboost as xgb\n",
    "\n",
    "\n",
    "import os\n",
    "for dirname, _, filenames in os.walk('/kaggle/input'):\n",
    "    for filename in filenames:\n",
    "        print(os.path.join(dirname, filename))"
   ]
  },
  {
   "cell_type": "markdown",
   "id": "3f1d64b3",
   "metadata": {
    "papermill": {
     "duration": 0.031519,
     "end_time": "2024-01-30T00:16:55.828531",
     "exception": false,
     "start_time": "2024-01-30T00:16:55.797012",
     "status": "completed"
    },
    "tags": []
   },
   "source": [
    "### Cargar datos"
   ]
  },
  {
   "cell_type": "code",
   "execution_count": null,
   "id": "02ebbdd0",
   "metadata": {
    "execution": {
     "iopub.execute_input": "2024-01-30T00:16:55.894099Z",
     "iopub.status.busy": "2024-01-30T00:16:55.893331Z",
     "iopub.status.idle": "2024-01-30T00:16:56.010146Z",
     "shell.execute_reply": "2024-01-30T00:16:56.008583Z"
    },
    "papermill": {
     "duration": 0.153353,
     "end_time": "2024-01-30T00:16:56.013535",
     "exception": false,
     "start_time": "2024-01-30T00:16:55.860182",
     "status": "completed"
    },
    "tags": []
   },
   "outputs": [],
   "source": [
    "# Cargar datos\n",
    "tr_data = pd.read_csv(\"/Users/valduran/Documents/Ciencia de Datos/Métodos de Gran Escala/Tareas/Tarea1/house-prices-advanced-regression-techniques/train.csv\")\n",
    "test_data = pd.read_csv(\"/Users/valduran/Documents/Ciencia de Datos/Métodos de Gran Escala/Tareas/Tarea1/house-prices-advanced-regression-techniques/test.csv\")"
   ]
  },
  {
   "cell_type": "markdown",
   "id": "57be3787",
   "metadata": {
    "papermill": {
     "duration": 0.030069,
     "end_time": "2024-01-30T00:16:56.076654",
     "exception": false,
     "start_time": "2024-01-30T00:16:56.046585",
     "status": "completed"
    },
    "tags": []
   },
   "source": [
    "### Concatenar"
   ]
  },
  {
   "cell_type": "code",
   "execution_count": null,
   "id": "ec6dd0cb",
   "metadata": {
    "execution": {
     "iopub.execute_input": "2024-01-30T00:16:56.143693Z",
     "iopub.status.busy": "2024-01-30T00:16:56.142416Z",
     "iopub.status.idle": "2024-01-30T00:16:56.188461Z",
     "shell.execute_reply": "2024-01-30T00:16:56.187130Z"
    },
    "papermill": {
     "duration": 0.083033,
     "end_time": "2024-01-30T00:16:56.192118",
     "exception": false,
     "start_time": "2024-01-30T00:16:56.109085",
     "status": "completed"
    },
    "tags": []
   },
   "outputs": [],
   "source": [
    "# etiquetas 1 & 0 para train y test data \n",
    "tr_data['is_train'] = 1\n",
    "test_data['is_train'] = 0\n",
    "\n",
    "# Combinación\n",
    "train_data = pd.concat([tr_data, test_data], sort=False).reset_index(drop=True)\n",
    "\n",
    "# Nuevos dataframes\n",
    "salesprice = pd.DataFrame()\n",
    "indicator = pd.DataFrame()\n",
    "\n",
    "salesprice = train_data['SalePrice']\n",
    "indicator = train_data['is_train']"
   ]
  },
  {
   "cell_type": "markdown",
   "id": "85116482",
   "metadata": {
    "papermill": {
     "duration": 0.030976,
     "end_time": "2024-01-30T00:16:56.353378",
     "exception": false,
     "start_time": "2024-01-30T00:16:56.322402",
     "status": "completed"
    },
    "tags": []
   },
   "source": [
    "### Datos de entrenamiento"
   ]
  },
  {
   "cell_type": "code",
   "execution_count": null,
   "id": "d252ab44",
   "metadata": {
    "execution": {
     "iopub.execute_input": "2024-01-30T00:16:56.416677Z",
     "iopub.status.busy": "2024-01-30T00:16:56.416203Z",
     "iopub.status.idle": "2024-01-30T00:16:56.449692Z",
     "shell.execute_reply": "2024-01-30T00:16:56.448141Z"
    },
    "papermill": {
     "duration": 0.068877,
     "end_time": "2024-01-30T00:16:56.452703",
     "exception": false,
     "start_time": "2024-01-30T00:16:56.383826",
     "status": "completed"
    },
    "tags": []
   },
   "outputs": [],
   "source": [
    "# Checando los datos\n",
    "tr_data.head()"
   ]
  },
  {
   "cell_type": "markdown",
   "id": "9c9dc1dc",
   "metadata": {
    "papermill": {
     "duration": 0.031481,
     "end_time": "2024-01-30T00:16:56.515993",
     "exception": false,
     "start_time": "2024-01-30T00:16:56.484512",
     "status": "completed"
    },
    "tags": []
   },
   "source": [
    "### Variables categóricas y numéricas"
   ]
  },
  {
   "cell_type": "code",
   "execution_count": null,
   "id": "5f987946",
   "metadata": {
    "execution": {
     "iopub.execute_input": "2024-01-30T00:16:56.583437Z",
     "iopub.status.busy": "2024-01-30T00:16:56.582568Z",
     "iopub.status.idle": "2024-01-30T00:16:56.595901Z",
     "shell.execute_reply": "2024-01-30T00:16:56.594656Z"
    },
    "papermill": {
     "duration": 0.050501,
     "end_time": "2024-01-30T00:16:56.598508",
     "exception": false,
     "start_time": "2024-01-30T00:16:56.548007",
     "status": "completed"
    },
    "tags": []
   },
   "outputs": [],
   "source": [
    "# Columnas en el set de entrenamiento\n",
    "pd.set_option('display.max_rows', None)      #filas\n",
    "train_data.dtypes"
   ]
  },
  {
   "cell_type": "code",
   "execution_count": null,
   "id": "2c6a0ca1",
   "metadata": {
    "execution": {
     "iopub.execute_input": "2024-01-30T00:16:56.729002Z",
     "iopub.status.busy": "2024-01-30T00:16:56.727748Z",
     "iopub.status.idle": "2024-01-30T00:16:56.792500Z",
     "shell.execute_reply": "2024-01-30T00:16:56.791196Z"
    },
    "papermill": {
     "duration": 0.101292,
     "end_time": "2024-01-30T00:16:56.795761",
     "exception": false,
     "start_time": "2024-01-30T00:16:56.694469",
     "status": "completed"
    },
    "tags": []
   },
   "outputs": [],
   "source": [
    "# Datos por campo\n",
    "\n",
    "total = train_data.isnull().sum().sort_values(ascending=False)\n",
    "percent = (train_data.isnull().sum()*100/train_data.isnull().count()).sort_values(ascending=False)\n",
    "missing_data = pd.concat([total,100- percent], axis=1, keys=['Total', 'Fill rate of the Features'])\n",
    "missing_data.head(20)"
   ]
  },
  {
   "cell_type": "code",
   "execution_count": null,
   "id": "5f790402",
   "metadata": {
    "execution": {
     "iopub.execute_input": "2024-01-30T00:16:56.864825Z",
     "iopub.status.busy": "2024-01-30T00:16:56.864393Z",
     "iopub.status.idle": "2024-01-30T00:16:56.889209Z",
     "shell.execute_reply": "2024-01-30T00:16:56.887663Z"
    },
    "papermill": {
     "duration": 0.062717,
     "end_time": "2024-01-30T00:16:56.892480",
     "exception": false,
     "start_time": "2024-01-30T00:16:56.829763",
     "status": "completed"
    },
    "tags": []
   },
   "outputs": [],
   "source": [
    "# Quito los datos que no tienen más del 80% de los datos llenos\n",
    "\n",
    "threshold = 0.8  \n",
    "train_data.dropna(thresh=len(train_data) * threshold, axis=1, inplace = True)"
   ]
  },
  {
   "cell_type": "markdown",
   "id": "ef26b358",
   "metadata": {
    "papermill": {
     "duration": 0.032059,
     "end_time": "2024-01-30T00:16:56.959244",
     "exception": false,
     "start_time": "2024-01-30T00:16:56.927185",
     "status": "completed"
    },
    "tags": []
   },
   "source": [
    "#### Así, se quitan 7 características del train_data: PoolQC, MiscFeature, Alley, Fence, MasVnrType, FireplaceQu and SalePrice.\n",
    "\n",
    "### EDA y selección de características. El dataset se dividirá entre 2: variables categóricas y numéricas."
   ]
  },
  {
   "cell_type": "code",
   "execution_count": null,
   "id": "6d6a6db8",
   "metadata": {
    "execution": {
     "iopub.execute_input": "2024-01-30T00:16:57.035926Z",
     "iopub.status.busy": "2024-01-30T00:16:57.035499Z",
     "iopub.status.idle": "2024-01-30T00:16:57.041992Z",
     "shell.execute_reply": "2024-01-30T00:16:57.041121Z"
    },
    "papermill": {
     "duration": 0.049566,
     "end_time": "2024-01-30T00:16:57.044473",
     "exception": false,
     "start_time": "2024-01-30T00:16:56.994907",
     "status": "completed"
    },
    "tags": []
   },
   "outputs": [],
   "source": [
    "# Columnas numéricas y categóricas\n",
    "train_data_num = train_data.select_dtypes(exclude=['object'])\n",
    "train_data_cat = train_data.select_dtypes(include=['object'])"
   ]
  },
  {
   "cell_type": "code",
   "execution_count": null,
   "id": "cecd1e91",
   "metadata": {
    "execution": {
     "iopub.execute_input": "2024-01-30T00:16:57.253765Z",
     "iopub.status.busy": "2024-01-30T00:16:57.253331Z",
     "iopub.status.idle": "2024-01-30T00:16:58.398865Z",
     "shell.execute_reply": "2024-01-30T00:16:58.397543Z"
    },
    "papermill": {
     "duration": 1.185381,
     "end_time": "2024-01-30T00:16:58.403860",
     "exception": false,
     "start_time": "2024-01-30T00:16:57.218479",
     "status": "completed"
    },
    "tags": []
   },
   "outputs": [],
   "source": [
    "# Matriz de correlación de variables numéricas y precios de ventas\n",
    "\n",
    "corr_matrix = train_data_num.corr()\n",
    "f, ax = plt.subplots(figsize=(12, 9))\n",
    "sns.heatmap(corr_matrix, vmax=.8, square=True)"
   ]
  },
  {
   "cell_type": "markdown",
   "id": "2dc82444",
   "metadata": {
    "papermill": {
     "duration": 0.036352,
     "end_time": "2024-01-30T00:17:00.196439",
     "exception": false,
     "start_time": "2024-01-30T00:17:00.160087",
     "status": "completed"
    },
    "tags": []
   },
   "source": [
    "#### De la gráfica anterior, observamos que los siguientes 10 campos numéricos están correlacionados positiva o negativamente con el precio de venta:\n",
    "\n",
    "#### - 'OverallCond', 'YearBuilt', 'YearRemodAdd', 'TotalBsmtSF', '1stFlrSF', 'GrLivArea', 'FullBath','TotRmsAbvGrd', 'GarageCars', 'GarageArea'\n",
    "\n",
    "#### Analizaré la importancia de esos campos para predir el precio de venta."
   ]
  },
  {
   "cell_type": "code",
   "execution_count": null,
   "id": "19769c92",
   "metadata": {
    "execution": {
     "iopub.execute_input": "2024-01-30T00:17:00.355911Z",
     "iopub.status.busy": "2024-01-30T00:17:00.355113Z",
     "iopub.status.idle": "2024-01-30T00:17:00.387544Z",
     "shell.execute_reply": "2024-01-30T00:17:00.385921Z"
    },
    "papermill": {
     "duration": 0.075658,
     "end_time": "2024-01-30T00:17:00.391083",
     "exception": false,
     "start_time": "2024-01-30T00:17:00.315425",
     "status": "completed"
    },
    "tags": []
   },
   "outputs": [],
   "source": [
    "from statsmodels.stats.outliers_influence import variance_inflation_factor\n",
    "\n",
    "numerical_features = ['OverallCond', 'YearBuilt', 'YearRemodAdd', 'TotalBsmtSF', '1stFlrSF', 'GrLivArea', 'FullBath','TotRmsAbvGrd', 'GarageCars', 'GarageArea'] \n",
    "\n",
    "# Asegurando de que train_data_num contenga solo las características numéricas especificadas\n",
    "train_data_num = train_data_num[numerical_features]\n",
    "\n",
    "# Lidiando con los missing values\n",
    "def median_imputation(data):\n",
    "    for col in data.columns:\n",
    "        median = data[col].median()\n",
    "        data[col].fillna(median, inplace=True)\n",
    "    return data\n",
    "\n",
    "# Calculando la mediana del train_data_num\n",
    "train_data_num = median_imputation(train_data_num)"
   ]
  },
  {
   "cell_type": "code",
   "execution_count": null,
   "id": "66243ec8",
   "metadata": {
    "execution": {
     "iopub.execute_input": "2024-01-30T00:17:00.470746Z",
     "iopub.status.busy": "2024-01-30T00:17:00.470270Z",
     "iopub.status.idle": "2024-01-30T00:17:00.494235Z",
     "shell.execute_reply": "2024-01-30T00:17:00.492601Z"
    },
    "papermill": {
     "duration": 0.06788,
     "end_time": "2024-01-30T00:17:00.497481",
     "exception": false,
     "start_time": "2024-01-30T00:17:00.429601",
     "status": "completed"
    },
    "tags": []
   },
   "outputs": [],
   "source": [
    "# Llenado de las variables numéricas\n",
    "total = train_data_num.isnull().sum().sort_values(ascending=False)\n",
    "percent = (train_data_num.isnull().sum()*100/train_data_num.isnull().count()).sort_values(ascending=False)\n",
    "missing_data = pd.concat([total,100- percent], axis=1, keys=['Total', 'Fill rate of the Features'])\n",
    "missing_data.head(20)"
   ]
  },
  {
   "cell_type": "markdown",
   "id": "1978d531",
   "metadata": {},
   "source": [
    "#### Creemos un nuevo campo llamado 'latest_construction' que capture qué tan actualizada está la casa. Cuanto más reciente sea la construcción, pienso que mayor será el precio de la propiedad..."
   ]
  },
  {
   "cell_type": "code",
   "execution_count": null,
   "id": "b7d120c0",
   "metadata": {},
   "outputs": [],
   "source": [
    "train_data_num['latest_contruction'] = train_data_num[['YearBuilt', 'YearRemodAdd']].max(axis=1)\n",
    "train_data_num.drop(['YearBuilt', 'YearRemodAdd'], axis=1, inplace=True)\n",
    "\n",
    "tr_data['latest_contruction'] = tr_data[['YearBuilt', 'YearRemodAdd']].max(axis=1)\n",
    "tr_data.drop(['YearBuilt', 'YearRemodAdd'], axis=1, inplace=True)"
   ]
  },
  {
   "cell_type": "markdown",
   "id": "c88a6e3c",
   "metadata": {
    "papermill": {
     "duration": 0.042423,
     "end_time": "2024-01-30T00:17:08.685705",
     "exception": false,
     "start_time": "2024-01-30T00:17:08.643282",
     "status": "completed"
    },
    "tags": []
   },
   "source": [
    "#### Los siguientes 5 campos están relacionados con la superficie de la casa y hay una alta probabilidad de que estén relacionados: 'TotalBsmtSF', '1stFlrSF', 'GrLivArea', 'FullBath', 'TotRmsAbvGrd'. Verifiquemos esta suposición para las variables relacionadas con la superficie."
   ]
  },
  {
   "cell_type": "code",
   "execution_count": null,
   "id": "5d5ad2c8",
   "metadata": {
    "execution": {
     "iopub.execute_input": "2024-01-30T00:17:08.773186Z",
     "iopub.status.busy": "2024-01-30T00:17:08.772638Z",
     "iopub.status.idle": "2024-01-30T00:17:09.211938Z",
     "shell.execute_reply": "2024-01-30T00:17:09.210344Z"
    },
    "papermill": {
     "duration": 0.486484,
     "end_time": "2024-01-30T00:17:09.215118",
     "exception": false,
     "start_time": "2024-01-30T00:17:08.728634",
     "status": "completed"
    },
    "tags": []
   },
   "outputs": [],
   "source": [
    "# Correlación entre el área y características relacionadas.\n",
    "df_area_var = train_data_num[['TotalBsmtSF', '1stFlrSF', 'GrLivArea', 'FullBath','TotRmsAbvGrd']]\n",
    "corrmat = df_area_var.corr()\n",
    "f, ax = plt.subplots(figsize=(12, 9))\n",
    "sns.heatmap(corrmat, vmax=.8, square=True)"
   ]
  },
  {
   "cell_type": "markdown",
   "id": "e74c5172",
   "metadata": {
    "papermill": {
     "duration": 0.046912,
     "end_time": "2024-01-30T00:17:09.307260",
     "exception": false,
     "start_time": "2024-01-30T00:17:09.260348",
     "status": "completed"
    },
    "tags": []
   },
   "source": [
    "#### De lo anterior, podemos concluir lo siguiente:\n",
    "#### 1) 'TotalBsmtSF' está muy altamente correlacionado con '1stFlrSF'.\n",
    "#### 2) 'GrLivArea' está muy altamente correlacionado con 'TotRmsAbvGrd' y correlacionado con '1stFlrSF' y 'FullBath'.\n",
    "#### 3) 'FullBath' está muy altamente correlacionado con 'GrLivArea' y 'TotRmsAbvGrd'.\n",
    "#### 4) 'TotRmsAbvGrd' está altamente correlacionado con 'FullBath' y 'GrLivArea'."
   ]
  },
  {
   "cell_type": "markdown",
   "id": "74f831d4",
   "metadata": {
    "papermill": {
     "duration": 0.045322,
     "end_time": "2024-01-30T00:17:09.398301",
     "exception": false,
     "start_time": "2024-01-30T00:17:09.352979",
     "status": "completed"
    },
    "tags": []
   },
   "source": [
    "#### Verifiquemos las conclusiones anteriores con una nueva matriz de correlación resaltando correlaciones > 0.5 o < 0.5."
   ]
  },
  {
   "cell_type": "code",
   "execution_count": null,
   "id": "37eac75f",
   "metadata": {
    "execution": {
     "iopub.execute_input": "2024-01-30T00:17:09.491934Z",
     "iopub.status.busy": "2024-01-30T00:17:09.491505Z",
     "iopub.status.idle": "2024-01-30T00:17:09.967517Z",
     "shell.execute_reply": "2024-01-30T00:17:09.966147Z"
    },
    "papermill": {
     "duration": 0.526935,
     "end_time": "2024-01-30T00:17:09.970659",
     "exception": false,
     "start_time": "2024-01-30T00:17:09.443724",
     "status": "completed"
    },
    "tags": []
   },
   "outputs": [],
   "source": [
    "# Máscara para correlación mayor a 0.5 o menor a -0.5\n",
    "mask = (corrmat > 0.5) | (corrmat < -0.5)\n",
    "\n",
    "# Aplicándo la máscara\n",
    "filtered_corrmat = corrmat[mask]\n",
    "\n",
    "# Graficando el heatmap\n",
    "f, ax = plt.subplots(figsize=(12, 9))\n",
    "sns.heatmap(filtered_corrmat, vmax=.8, square=True, annot=True)"
   ]
  },
  {
   "cell_type": "markdown",
   "id": "d9877995",
   "metadata": {
    "papermill": {
     "duration": 0.047798,
     "end_time": "2024-01-30T00:17:10.062616",
     "exception": false,
     "start_time": "2024-01-30T00:17:10.014818",
     "status": "completed"
    },
    "tags": []
   },
   "source": [
    "#### De lo anterior, también se desprende la siguiente conclusión:\n",
    "#### 1) 'TotalBsmtSF' está muy altamente correlacionado con '1stFlrSF' -----> (Podemos conservar '1stFlrSF')\n",
    "#### 2) 'GrLivArea' está muy altamente correlacionado con 'TotRmsAbvGrd' y correlacionado con '1stFlrSF' y 'FullBath' ---> (Podemos conservar 'GrLivArea')\n",
    "#### 3) 'FullBath' está altamente correlacionado con 'GrLivArea' y 'TotRmsAbvGrd' ---> (Podemos conservar 'GrLivArea')\n",
    "#### 4) 'TotRmsAbvGrd' está altamente correlacionado con 'FullBath' y 'GrLivArea' ---> (Podemos conservar 'GrLivArea')\""
   ]
  },
  {
   "cell_type": "markdown",
   "id": "abbf2654",
   "metadata": {
    "papermill": {
     "duration": 0.046454,
     "end_time": "2024-01-30T00:17:13.894133",
     "exception": false,
     "start_time": "2024-01-30T00:17:13.847679",
     "status": "completed"
    },
    "tags": []
   },
   "source": [
    "### Finalmente, concluimos que entre 'TotalBsmtSF', '1stFlrSF', 'GrLivArea', 'FullBath' y 'TotRmsAbvGrd', debemos seguir con ***'TotalBsmtSF' y 'GrLivArea'***."
   ]
  },
  {
   "cell_type": "markdown",
   "id": "7a47d60c",
   "metadata": {
    "papermill": {
     "duration": 0.046199,
     "end_time": "2024-01-30T00:17:13.986933",
     "exception": false,
     "start_time": "2024-01-30T00:17:13.940734",
     "status": "completed"
    },
    "tags": []
   },
   "source": [
    "#### Relación entre 'GarageCars' y 'GarageArea'"
   ]
  },
  {
   "cell_type": "code",
   "execution_count": null,
   "id": "320e176a",
   "metadata": {
    "execution": {
     "iopub.execute_input": "2024-01-30T00:17:14.520242Z",
     "iopub.status.busy": "2024-01-30T00:17:14.519508Z",
     "iopub.status.idle": "2024-01-30T00:17:14.864630Z",
     "shell.execute_reply": "2024-01-30T00:17:14.863066Z"
    },
    "papermill": {
     "duration": 0.397999,
     "end_time": "2024-01-30T00:17:14.868153",
     "exception": false,
     "start_time": "2024-01-30T00:17:14.470154",
     "status": "completed"
    },
    "tags": []
   },
   "outputs": [],
   "source": [
    "df_area_var1 = train_data_num[['GarageCars', 'GarageArea']]\n",
    "corrmat1 = df_area_var1.corr()\n",
    "plt.figure(figsize=(8, 6))\n",
    "sns.heatmap(corrmat1, annot=True, cmap='coolwarm', fmt=\".2f\")\n",
    "plt.title(\"Correlation Matrix\")\n",
    "plt.show()"
   ]
  },
  {
   "cell_type": "markdown",
   "id": "356e5619",
   "metadata": {
    "papermill": {
     "duration": 0.051549,
     "end_time": "2024-01-30T00:17:14.970091",
     "exception": false,
     "start_time": "2024-01-30T00:17:14.918542",
     "status": "completed"
    },
    "tags": []
   },
   "source": [
    "#### A partir de los gráficos anteriores, podemos ver una correlación tan alta entre GarageCars y GarageArea. Conservaré solo GarageArea."
   ]
  },
  {
   "cell_type": "markdown",
   "id": "e04517dc",
   "metadata": {},
   "source": [
    "#### Relación entre TotalBsmtSF y GarageArea."
   ]
  },
  {
   "cell_type": "code",
   "execution_count": null,
   "id": "e23bf1bc",
   "metadata": {
    "execution": {
     "iopub.execute_input": "2024-01-30T00:17:15.533360Z",
     "iopub.status.busy": "2024-01-30T00:17:15.532825Z",
     "iopub.status.idle": "2024-01-30T00:17:15.899491Z",
     "shell.execute_reply": "2024-01-30T00:17:15.898034Z"
    },
    "papermill": {
     "duration": 0.422668,
     "end_time": "2024-01-30T00:17:15.902635",
     "exception": false,
     "start_time": "2024-01-30T00:17:15.479967",
     "status": "completed"
    },
    "tags": []
   },
   "outputs": [],
   "source": [
    "df_area_var3 = train_data_num[['TotalBsmtSF', 'GarageArea']]\n",
    "corrmat2 = df_area_var3.corr()\n",
    "plt.figure(figsize=(8, 6))\n",
    "sns.heatmap(corrmat2, annot=True, cmap='coolwarm', fmt=\".2f\")\n",
    "plt.title(\"Correlation Matrix\")\n",
    "plt.show()"
   ]
  },
  {
   "cell_type": "markdown",
   "id": "a5c0a02d",
   "metadata": {
    "papermill": {
     "duration": 0.054439,
     "end_time": "2024-01-30T00:17:16.007903",
     "exception": false,
     "start_time": "2024-01-30T00:17:15.953464",
     "status": "completed"
    },
    "tags": []
   },
   "source": [
    "#### No hay relación entre 'TotalBsmtSF' y 'GarageArea'. Por lo que ambos puede ir en el modelo."
   ]
  },
  {
   "cell_type": "markdown",
   "id": "ac58adb3",
   "metadata": {
    "papermill": {
     "duration": 0.057075,
     "end_time": "2024-01-30T00:17:16.117245",
     "exception": false,
     "start_time": "2024-01-30T00:17:16.060170",
     "status": "completed"
    },
    "tags": []
   },
   "source": [
    "### Hasta ahora, de las variables numéricas, procederé con 'OverallCond', 'latest_contruction', 'TotalBsmtSF', 'GrLivArea' y 'GarageArea'.\n",
    "\n",
    "### Reemplacemos train_data_num con un nuevo conjunto de datos con las 5 características mencionadas anteriormente."
   ]
  },
  {
   "cell_type": "code",
   "execution_count": null,
   "id": "27de2e28",
   "metadata": {
    "execution": {
     "iopub.execute_input": "2024-01-30T00:17:16.225200Z",
     "iopub.status.busy": "2024-01-30T00:17:16.224690Z",
     "iopub.status.idle": "2024-01-30T00:17:16.232846Z",
     "shell.execute_reply": "2024-01-30T00:17:16.231215Z"
    },
    "papermill": {
     "duration": 0.067181,
     "end_time": "2024-01-30T00:17:16.235927",
     "exception": false,
     "start_time": "2024-01-30T00:17:16.168746",
     "status": "completed"
    },
    "tags": []
   },
   "outputs": [],
   "source": [
    "# Lista de 5 características.\n",
    "selected_features = ['OverallCond', 'latest_contruction', 'TotalBsmtSF', 'GrLivArea', 'GarageArea']\n",
    "\n",
    "# Create a new DataFrame with only the selected features\n",
    "train_data_num = train_data_num[selected_features]"
   ]
  },
  {
   "cell_type": "markdown",
   "id": "751bd10b",
   "metadata": {
    "papermill": {
     "duration": 0.052062,
     "end_time": "2024-01-30T00:17:16.647858",
     "exception": false,
     "start_time": "2024-01-30T00:17:16.595796",
     "status": "completed"
    },
    "tags": []
   },
   "source": [
    "### Estandaricemos las características en train_data_num. Esto mejora la eficacia de los modelos de ML."
   ]
  },
  {
   "cell_type": "code",
   "execution_count": null,
   "id": "a3b1d1d5",
   "metadata": {
    "execution": {
     "iopub.execute_input": "2024-01-30T00:17:16.755938Z",
     "iopub.status.busy": "2024-01-30T00:17:16.755437Z",
     "iopub.status.idle": "2024-01-30T00:17:16.776770Z",
     "shell.execute_reply": "2024-01-30T00:17:16.775565Z"
    },
    "papermill": {
     "duration": 0.078798,
     "end_time": "2024-01-30T00:17:16.779730",
     "exception": false,
     "start_time": "2024-01-30T00:17:16.700932",
     "status": "completed"
    },
    "tags": []
   },
   "outputs": [],
   "source": [
    "from sklearn.preprocessing import StandardScaler, OneHotEncoder\n",
    "from sklearn.compose import ColumnTransformer\n",
    "\n",
    "# Aplicamos StandardScaler a las columnas numéricas\n",
    "scaler = StandardScaler()\n",
    "train_data_num = pd.DataFrame(scaler.fit_transform(train_data_num), columns=train_data_num.columns)\n",
    "train_data_num.head()"
   ]
  },
  {
   "cell_type": "markdown",
   "id": "322489c7",
   "metadata": {
    "papermill": {
     "duration": 0.054998,
     "end_time": "2024-01-30T00:17:17.319658",
     "exception": false,
     "start_time": "2024-01-30T00:17:17.264660",
     "status": "completed"
    },
    "tags": []
   },
   "source": [
    "# Variables no numéricas"
   ]
  },
  {
   "cell_type": "code",
   "execution_count": null,
   "id": "773820c7",
   "metadata": {
    "execution": {
     "iopub.execute_input": "2024-01-30T00:17:17.531497Z",
     "iopub.status.busy": "2024-01-30T00:17:17.531004Z",
     "iopub.status.idle": "2024-01-30T00:17:17.617570Z",
     "shell.execute_reply": "2024-01-30T00:17:17.615856Z"
    },
    "papermill": {
     "duration": 0.144231,
     "end_time": "2024-01-30T00:17:17.620463",
     "exception": false,
     "start_time": "2024-01-30T00:17:17.476232",
     "status": "completed"
    },
    "tags": []
   },
   "outputs": [],
   "source": [
    "# Initialize df_stats with specified columns which indicate the metrics for analysis\n",
    "df_stats = pd.DataFrame(columns=['column', 'Distinct_value_incl_na', 'Distinct_value_without_na', \n",
    "                                 'missing_val', '%_missing_val'])\n",
    "\n",
    "# List to hold the data for each column\n",
    "stats = []\n",
    "\n",
    "for c in train_data_cat.columns:\n",
    "    column_stats = {\n",
    "        'column': c,\n",
    "        'Distinct_value_incl_na': len(list(train_data_cat[c].unique())),\n",
    "        'Distinct_value_without_na': int(train_data_cat[c].nunique()),\n",
    "        'missing_val': train_data_cat[c].isnull().sum(),\n",
    "        '%_missing_val': (train_data_cat[c].isnull().sum() / len(train_data_cat)).round(3) * 100\n",
    "    }\n",
    "    stats.append(column_stats)\n",
    "\n",
    "# Convert the list of dictionaries to a DataFrame\n",
    "df_stats = pd.DataFrame(stats)\n",
    "df_stats.head()"
   ]
  },
  {
   "cell_type": "code",
   "execution_count": null,
   "id": "be047e26",
   "metadata": {
    "execution": {
     "iopub.execute_input": "2024-01-30T00:17:17.826240Z",
     "iopub.status.busy": "2024-01-30T00:17:17.824942Z",
     "iopub.status.idle": "2024-01-30T00:17:17.892719Z",
     "shell.execute_reply": "2024-01-30T00:17:17.891106Z"
    },
    "papermill": {
     "duration": 0.123222,
     "end_time": "2024-01-30T00:17:17.895900",
     "exception": false,
     "start_time": "2024-01-30T00:17:17.772678",
     "status": "completed"
    },
    "tags": []
   },
   "outputs": [],
   "source": [
    "# Impute the features before encoding it.\n",
    "\n",
    "def mode_imputation(train_data_cat):\n",
    " \n",
    "    for col in train_data_cat.columns:\n",
    "        mode = train_data_cat[col].mode().iloc[0]\n",
    "        train_data_cat[col] = train_data_cat[col].fillna(mode)\n",
    "    return train_data_cat\n",
    "\n",
    "train_data_cat = mode_imputation(train_data_cat)"
   ]
  },
  {
   "cell_type": "code",
   "execution_count": null,
   "id": "1115f2d6",
   "metadata": {
    "execution": {
     "iopub.execute_input": "2024-01-30T00:17:18.382718Z",
     "iopub.status.busy": "2024-01-30T00:17:18.381369Z",
     "iopub.status.idle": "2024-01-30T00:17:18.389667Z",
     "shell.execute_reply": "2024-01-30T00:17:18.388413Z"
    },
    "papermill": {
     "duration": 0.064422,
     "end_time": "2024-01-30T00:17:18.392053",
     "exception": false,
     "start_time": "2024-01-30T00:17:18.327631",
     "status": "completed"
    },
    "tags": []
   },
   "outputs": [],
   "source": [
    "nominal_cols = ['MSZoning', 'Street','LandContour','Neighborhood','Condition1','Condition2',\n",
    "                'RoofStyle','RoofMatl','Exterior1st','Exterior2nd','Heating','GarageType','SaleType','SaleCondition']\n",
    "ordinal_cols = ['ExterQual','ExterCond','BsmtQual','BsmtCond','BsmtExposure','BsmtFinType1',\n",
    "                'BsmtFinType2','HeatingQC','CentralAir','Electrical','KitchenQual','Functional','GarageFinish','GarageQual','GarageCond','PavedDrive','LotShape',\n",
    "                'Utilities','LandSlope','BldgType','HouseStyle','LotConfig']\n"
   ]
  },
  {
   "cell_type": "markdown",
   "id": "9a09083c",
   "metadata": {
    "papermill": {
     "duration": 0.049734,
     "end_time": "2024-01-30T00:17:18.491842",
     "exception": false,
     "start_time": "2024-01-30T00:17:18.442108",
     "status": "completed"
    },
    "tags": []
   },
   "source": [
    "### Se dividen los datos categóricos en 2: cardinales y nominales."
   ]
  },
  {
   "cell_type": "code",
   "execution_count": null,
   "id": "fb193862",
   "metadata": {
    "execution": {
     "iopub.execute_input": "2024-01-30T00:17:18.594737Z",
     "iopub.status.busy": "2024-01-30T00:17:18.594333Z",
     "iopub.status.idle": "2024-01-30T00:17:18.604969Z",
     "shell.execute_reply": "2024-01-30T00:17:18.603374Z"
    },
    "papermill": {
     "duration": 0.066015,
     "end_time": "2024-01-30T00:17:18.607900",
     "exception": false,
     "start_time": "2024-01-30T00:17:18.541885",
     "status": "completed"
    },
    "tags": []
   },
   "outputs": [],
   "source": [
    "train_ordinal = train_data_cat[ordinal_cols]\n",
    "train_nominal = train_data_cat[nominal_cols]"
   ]
  },
  {
   "cell_type": "code",
   "execution_count": null,
   "id": "86b7ea3f",
   "metadata": {
    "execution": {
     "iopub.execute_input": "2024-01-30T00:17:18.817326Z",
     "iopub.status.busy": "2024-01-30T00:17:18.816384Z",
     "iopub.status.idle": "2024-01-30T00:17:18.873736Z",
     "shell.execute_reply": "2024-01-30T00:17:18.872148Z"
    },
    "papermill": {
     "duration": 0.114357,
     "end_time": "2024-01-30T00:17:18.877545",
     "exception": false,
     "start_time": "2024-01-30T00:17:18.763188",
     "status": "completed"
    },
    "tags": []
   },
   "outputs": [],
   "source": [
    "# Let's label encode the ordinal data\n",
    "def label_encode(train_ordinal):\n",
    "    \"\"\"\n",
    "    Label encoding of the categorical features\n",
    "    \"\"\"\n",
    "    '''Create a copy of train_ordinal'''\n",
    "    train_ordinal_encoded = train_ordinal.copy()\n",
    "    lab_enc_dict = {}\n",
    "    for col in train_ordinal_encoded:\n",
    "        lab_enc_dict[col] = LabelEncoder()\n",
    "        train_ordinal_encoded[col] = lab_enc_dict[col].fit_transform(train_ordinal[col])\n",
    "    return train_ordinal_encoded\n",
    "\n",
    "train_ordinal_encoded = label_encode(train_ordinal)\n",
    "train_ordinal_encoded.head()"
   ]
  },
  {
   "cell_type": "markdown",
   "id": "a91f91ca",
   "metadata": {
    "papermill": {
     "duration": 0.057945,
     "end_time": "2024-01-30T00:17:18.988364",
     "exception": false,
     "start_time": "2024-01-30T00:17:18.930419",
     "status": "completed"
    },
    "tags": []
   },
   "source": [
    "### *One-hot encoding* para datos ordinales."
   ]
  },
  {
   "cell_type": "code",
   "execution_count": null,
   "id": "993b07f2",
   "metadata": {
    "execution": {
     "iopub.execute_input": "2024-01-30T00:17:19.103597Z",
     "iopub.status.busy": "2024-01-30T00:17:19.103132Z",
     "iopub.status.idle": "2024-01-30T00:17:19.153007Z",
     "shell.execute_reply": "2024-01-30T00:17:19.151034Z"
    },
    "papermill": {
     "duration": 0.110054,
     "end_time": "2024-01-30T00:17:19.156358",
     "exception": false,
     "start_time": "2024-01-30T00:17:19.046304",
     "status": "completed"
    },
    "tags": []
   },
   "outputs": [],
   "source": [
    "# Let's do one-hot encoding for the nominal data\n",
    "def onehot_encode(train_nominal):\n",
    "    train_onehot_encoded = pd.get_dummies(train_nominal[train_nominal.columns[:-1]])\n",
    "    return train_onehot_encoded\n",
    "\n",
    "train_nominal_onehot_encoded = onehot_encode(train_nominal)\n",
    "\n",
    "# If the encoded DataFrame contains True/False, convert them to 0/1\n",
    "train_nominal_onehot_encoded = train_nominal_onehot_encoded.astype(int)\n",
    "train_nominal_onehot_encoded.head()"
   ]
  },
  {
   "cell_type": "code",
   "execution_count": null,
   "id": "f5f03e51",
   "metadata": {
    "execution": {
     "iopub.execute_input": "2024-01-30T00:17:19.268408Z",
     "iopub.status.busy": "2024-01-30T00:17:19.266906Z",
     "iopub.status.idle": "2024-01-30T00:17:19.333286Z",
     "shell.execute_reply": "2024-01-30T00:17:19.332096Z"
    },
    "papermill": {
     "duration": 0.125409,
     "end_time": "2024-01-30T00:17:19.336012",
     "exception": false,
     "start_time": "2024-01-30T00:17:19.210603",
     "status": "completed"
    },
    "tags": []
   },
   "outputs": [],
   "source": [
    "total = train_data_cat.isnull().sum().sort_values(ascending=False)\n",
    "percent = (train_data_cat.isnull().sum()*100/train_data_cat.isnull().count()).sort_values(ascending=False)\n",
    "missing_data = pd.concat([total, 100-percent], axis=1, keys=['Total', 'Fill rate of the Features'])\n",
    "missing_data.head(20)"
   ]
  },
  {
   "cell_type": "markdown",
   "id": "c33dfbef",
   "metadata": {
    "papermill": {
     "duration": 0.054489,
     "end_time": "2024-01-30T00:17:19.444056",
     "exception": false,
     "start_time": "2024-01-30T00:17:19.389567",
     "status": "completed"
    },
    "tags": []
   },
   "source": [
    "### Vamos a concatenar los datos categóricos para las características ordinales y nominales. Después de la concatenación, aplicar estandarización."
   ]
  },
  {
   "cell_type": "code",
   "execution_count": null,
   "id": "8f763f01",
   "metadata": {
    "execution": {
     "iopub.execute_input": "2024-01-30T00:17:19.558311Z",
     "iopub.status.busy": "2024-01-30T00:17:19.556874Z",
     "iopub.status.idle": "2024-01-30T00:17:19.610383Z",
     "shell.execute_reply": "2024-01-30T00:17:19.609131Z"
    },
    "papermill": {
     "duration": 0.114068,
     "end_time": "2024-01-30T00:17:19.612973",
     "exception": false,
     "start_time": "2024-01-30T00:17:19.498905",
     "status": "completed"
    },
    "tags": []
   },
   "outputs": [],
   "source": [
    "# Concatenate\n",
    "train_data_cat = pd.concat([train_ordinal_encoded, train_nominal_onehot_encoded], axis=1)\n",
    "\n",
    "# Applying StandardScaler \n",
    "scaler = StandardScaler()\n",
    "train_data_cat = pd.DataFrame(scaler.fit_transform(train_data_cat), columns=train_data_cat.columns)\n",
    "train_data_cat.head()"
   ]
  },
  {
   "cell_type": "markdown",
   "id": "c6bbf18e",
   "metadata": {
    "papermill": {
     "duration": 0.052711,
     "end_time": "2024-01-30T00:17:19.719716",
     "exception": false,
     "start_time": "2024-01-30T00:17:19.667005",
     "status": "completed"
    },
    "tags": []
   },
   "source": [
    "### Vamos a concatenar los dataframes de datos numéricos y datos categóricos."
   ]
  },
  {
   "cell_type": "code",
   "execution_count": null,
   "id": "e7ea1481",
   "metadata": {
    "execution": {
     "iopub.execute_input": "2024-01-30T00:17:19.828404Z",
     "iopub.status.busy": "2024-01-30T00:17:19.827905Z",
     "iopub.status.idle": "2024-01-30T00:17:19.840056Z",
     "shell.execute_reply": "2024-01-30T00:17:19.838823Z"
    },
    "papermill": {
     "duration": 0.069434,
     "end_time": "2024-01-30T00:17:19.842768",
     "exception": false,
     "start_time": "2024-01-30T00:17:19.773334",
     "status": "completed"
    },
    "tags": []
   },
   "outputs": [],
   "source": [
    "# Concatenate the numerical and categorical dataframes and add the flag for train-test data and also the target variable.\n",
    "train_data_v1 = pd.concat([train_data_num, train_data_cat], axis=1)\n",
    "train_data_v1['SalePrice'] = salesprice\n",
    "train_data_v1['indicator'] = indicator\n",
    "train_data_v1.columns"
   ]
  },
  {
   "cell_type": "code",
   "execution_count": null,
   "id": "a83aed32",
   "metadata": {
    "execution": {
     "iopub.execute_input": "2024-01-30T00:17:19.953178Z",
     "iopub.status.busy": "2024-01-30T00:17:19.951933Z",
     "iopub.status.idle": "2024-01-30T00:17:19.966233Z",
     "shell.execute_reply": "2024-01-30T00:17:19.965118Z"
    },
    "papermill": {
     "duration": 0.07331,
     "end_time": "2024-01-30T00:17:19.968996",
     "exception": false,
     "start_time": "2024-01-30T00:17:19.895686",
     "status": "completed"
    },
    "tags": []
   },
   "outputs": [],
   "source": [
    "# Let's eliminate the flag column after the data segregation\n",
    "train_data_v2 = train_data_v1[train_data_v1['indicator'] == 1].drop(columns=['indicator'])\n",
    "test_data_v2 = train_data_v1[train_data_v1['indicator'] == 0].drop(columns=['indicator'])"
   ]
  },
  {
   "cell_type": "code",
   "execution_count": null,
   "id": "bcdd0f37",
   "metadata": {
    "execution": {
     "iopub.execute_input": "2024-01-30T00:17:20.918673Z",
     "iopub.status.busy": "2024-01-30T00:17:20.918248Z",
     "iopub.status.idle": "2024-01-30T00:17:20.924657Z",
     "shell.execute_reply": "2024-01-30T00:17:20.923287Z"
    },
    "papermill": {
     "duration": 0.064102,
     "end_time": "2024-01-30T00:17:20.927206",
     "exception": false,
     "start_time": "2024-01-30T00:17:20.863104",
     "status": "completed"
    },
    "tags": []
   },
   "outputs": [],
   "source": [
    "# Applying log transformation to SalePrice field\n",
    "train_data_v2['SalePrice'] = np.log(train_data_v2['SalePrice'])"
   ]
  },
  {
   "cell_type": "markdown",
   "id": "cef7932e",
   "metadata": {
    "papermill": {
     "duration": 0.057111,
     "end_time": "2024-01-30T00:17:21.892649",
     "exception": false,
     "start_time": "2024-01-30T00:17:21.835538",
     "status": "completed"
    },
    "tags": []
   },
   "source": [
    "### Estandarizamos las características en ***train_data_num***."
   ]
  },
  {
   "cell_type": "markdown",
   "id": "dc2f2faa",
   "metadata": {
    "papermill": {
     "duration": 0.057125,
     "end_time": "2024-01-30T00:17:22.008205",
     "exception": false,
     "start_time": "2024-01-30T00:17:21.951080",
     "status": "completed"
    },
    "tags": []
   },
   "source": [
    "# Modelos predictivos de ML."
   ]
  },
  {
   "cell_type": "markdown",
   "id": "c6de045a",
   "metadata": {
    "papermill": {
     "duration": 0.057081,
     "end_time": "2024-01-30T00:17:22.274899",
     "exception": false,
     "start_time": "2024-01-30T00:17:22.217818",
     "status": "completed"
    },
    "tags": []
   },
   "source": [
    "### Dividimos los datos en set de entrenamiento y validación."
   ]
  },
  {
   "cell_type": "code",
   "execution_count": null,
   "id": "249a320b",
   "metadata": {
    "execution": {
     "iopub.execute_input": "2024-01-30T00:17:22.392200Z",
     "iopub.status.busy": "2024-01-30T00:17:22.391670Z",
     "iopub.status.idle": "2024-01-30T00:17:22.406117Z",
     "shell.execute_reply": "2024-01-30T00:17:22.404668Z"
    },
    "papermill": {
     "duration": 0.07618,
     "end_time": "2024-01-30T00:17:22.408704",
     "exception": false,
     "start_time": "2024-01-30T00:17:22.332524",
     "status": "completed"
    },
    "tags": []
   },
   "outputs": [],
   "source": [
    "X = train_data_v2.drop('SalePrice', axis=1)  # Features (all columns except the target variable)\n",
    "y = train_data_v2['SalePrice']               # Target variable\n",
    "\n",
    "# Splitting the dataset into training (e.g., 70%) and validation (e.g., 30%) sets\n",
    "X_train, X_test, y_train, y_test = train_test_split(X, y, test_size=0.3, random_state=42)\n",
    "\n",
    "# X_train, y_train are the training data\n",
    "# X_test, y_test are the testing data"
   ]
  },
  {
   "cell_type": "markdown",
   "id": "e7b03722",
   "metadata": {
    "papermill": {
     "duration": 0.055985,
     "end_time": "2024-01-30T00:17:22.520378",
     "exception": false,
     "start_time": "2024-01-30T00:17:22.464393",
     "status": "completed"
    },
    "tags": []
   },
   "source": [
    "### Linear Regression"
   ]
  },
  {
   "cell_type": "code",
   "execution_count": null,
   "id": "25e7ac0a",
   "metadata": {
    "execution": {
     "iopub.execute_input": "2024-01-30T00:17:22.633104Z",
     "iopub.status.busy": "2024-01-30T00:17:22.632591Z",
     "iopub.status.idle": "2024-01-30T00:17:22.715016Z",
     "shell.execute_reply": "2024-01-30T00:17:22.713592Z"
    },
    "papermill": {
     "duration": 0.143682,
     "end_time": "2024-01-30T00:17:22.719185",
     "exception": false,
     "start_time": "2024-01-30T00:17:22.575503",
     "status": "completed"
    },
    "tags": []
   },
   "outputs": [],
   "source": [
    "# Create a linear regression model\n",
    "model_lr = LinearRegression()\n",
    "\n",
    "# Fit the model on the training set\n",
    "model_lr.fit(X_train, y_train)\n",
    "\n",
    "# Make predictions on the test set\n",
    "y_pred = model_lr.predict(X_test)\n",
    "\n",
    "\n",
    "# Evaluate the model\n",
    "mse = mean_squared_error(y_test, y_pred)\n",
    "r2 = r2_score(y_test, y_pred)\n",
    "print(f'Mean Squared Error: {mse}')\n",
    "print(f'R-squared: {r2}')"
   ]
  },
  {
   "cell_type": "markdown",
   "id": "58703735",
   "metadata": {
    "papermill": {
     "duration": 0.054934,
     "end_time": "2024-01-30T00:17:22.914360",
     "exception": false,
     "start_time": "2024-01-30T00:17:22.859426",
     "status": "completed"
    },
    "tags": []
   },
   "source": [
    "# Polynomial Regression"
   ]
  },
  {
   "cell_type": "code",
   "execution_count": null,
   "id": "f1c0ed93",
   "metadata": {
    "execution": {
     "iopub.execute_input": "2024-01-30T00:17:23.029689Z",
     "iopub.status.busy": "2024-01-30T00:17:23.029209Z",
     "iopub.status.idle": "2024-01-30T00:17:26.202555Z",
     "shell.execute_reply": "2024-01-30T00:17:26.201113Z"
    },
    "papermill": {
     "duration": 3.236483,
     "end_time": "2024-01-30T00:17:26.206900",
     "exception": false,
     "start_time": "2024-01-30T00:17:22.970417",
     "status": "completed"
    },
    "tags": []
   },
   "outputs": [],
   "source": [
    "# Create a PolynomialFeatures object with the degree of the polynomial\n",
    "degree = 2  # We can adjust this value\n",
    "poly = PolynomialFeatures(degree=degree)\n",
    "\n",
    "# Transform the features into polynomial features\n",
    "X_train_poly = poly.fit_transform(X_train)\n",
    "X_test_poly = poly.transform(X_test)\n",
    "\n",
    "# Create a linear regression model\n",
    "model = LinearRegression()\n",
    "\n",
    "# Fit the model on the polynomial-transformed training set\n",
    "model.fit(X_train_poly, y_train)\n",
    "\n",
    "# Make predictions on the polynomial-transformed test set\n",
    "y_pred = model.predict(X_test_poly)\n",
    "\n",
    "# Evaluate the model\n",
    "mse = mean_squared_error(y_test, y_pred)\n",
    "r2 = r2_score(y_test, y_pred)\n",
    "print(f'Mean Squared Error: {mse}')\n",
    "print(f'R-squared: {r2}')"
   ]
  },
  {
   "cell_type": "markdown",
   "id": "893b589c",
   "metadata": {
    "papermill": {
     "duration": 0.057362,
     "end_time": "2024-01-30T00:17:26.387939",
     "exception": false,
     "start_time": "2024-01-30T00:17:26.330577",
     "status": "completed"
    },
    "tags": []
   },
   "source": [
    "### Random forest regression model"
   ]
  },
  {
   "cell_type": "code",
   "execution_count": null,
   "id": "c880a412",
   "metadata": {
    "execution": {
     "iopub.execute_input": "2024-01-30T00:17:26.501194Z",
     "iopub.status.busy": "2024-01-30T00:17:26.500717Z",
     "iopub.status.idle": "2024-01-30T00:17:33.363095Z",
     "shell.execute_reply": "2024-01-30T00:17:33.361454Z"
    },
    "papermill": {
     "duration": 6.922129,
     "end_time": "2024-01-30T00:17:33.365980",
     "exception": false,
     "start_time": "2024-01-30T00:17:26.443851",
     "status": "completed"
    },
    "tags": []
   },
   "outputs": [],
   "source": [
    "# Create a random forest regression model\n",
    "\n",
    "rf_model = RandomForestRegressor(n_estimators=500, random_state=42)\n",
    "\n",
    "# Fit the model on the training set\n",
    "rf_model.fit(X_train, y_train)\n",
    "\n",
    "# Make predictions on the test set\n",
    "y_pred = rf_model.predict(X_test)\n",
    "\n",
    "# Evaluate the model\n",
    "mse = mean_squared_error(y_test, y_pred)\n",
    "r2 = r2_score(y_test, y_pred)\n",
    "print(f'Mean Squared Error: {mse}')\n",
    "print(f'R-squared: {r2}')"
   ]
  },
  {
   "cell_type": "markdown",
   "id": "d0dcda58",
   "metadata": {
    "papermill": {
     "duration": 0.055068,
     "end_time": "2024-01-30T00:17:33.475886",
     "exception": false,
     "start_time": "2024-01-30T00:17:33.420818",
     "status": "completed"
    },
    "tags": []
   },
   "source": [
    "### XGBOOST model"
   ]
  },
  {
   "cell_type": "code",
   "execution_count": null,
   "id": "b7e9cc22",
   "metadata": {
    "execution": {
     "iopub.execute_input": "2024-01-30T00:17:33.588053Z",
     "iopub.status.busy": "2024-01-30T00:17:33.587559Z",
     "iopub.status.idle": "2024-01-30T00:17:34.893208Z",
     "shell.execute_reply": "2024-01-30T00:17:34.892055Z"
    },
    "papermill": {
     "duration": 1.365462,
     "end_time": "2024-01-30T00:17:34.896146",
     "exception": false,
     "start_time": "2024-01-30T00:17:33.530684",
     "status": "completed"
    },
    "tags": []
   },
   "outputs": [],
   "source": [
    "# Create an XGBoost regression model\n",
    "xgb_model = xgb.XGBRegressor(objective='reg:squarederror', n_estimators=500, learning_rate=0.1, random_state=42)\n",
    "\n",
    "# Fit the model on the training set\n",
    "xgb_model.fit(X_train, y_train)\n",
    "\n",
    "# Make predictions on the test set\n",
    "y_pred = xgb_model.predict(X_test)\n",
    "\n",
    "# Evaluate the model\n",
    "mse = mean_squared_error(y_test, y_pred)\n",
    "r2 = r2_score(y_test, y_pred)\n",
    "print(f'Mean Squared Error: {mse}')\n",
    "print(f'R-squared: {r2}')"
   ]
  },
  {
   "cell_type": "markdown",
   "id": "c900d9bc",
   "metadata": {},
   "source": [
    "# Resultados"
   ]
  },
  {
   "cell_type": "code",
   "execution_count": null,
   "id": "aa9a839d",
   "metadata": {
    "execution": {
     "iopub.execute_input": "2024-01-30T00:17:35.126903Z",
     "iopub.status.busy": "2024-01-30T00:17:35.126439Z",
     "iopub.status.idle": "2024-01-30T00:17:35.134908Z",
     "shell.execute_reply": "2024-01-30T00:17:35.133651Z"
    },
    "papermill": {
     "duration": 0.070007,
     "end_time": "2024-01-30T00:17:35.137472",
     "exception": false,
     "start_time": "2024-01-30T00:17:35.067465",
     "status": "completed"
    },
    "tags": []
   },
   "outputs": [],
   "source": [
    "test_data_v2 = test_data_v2.drop('SalePrice', axis=1)"
   ]
  },
  {
   "cell_type": "code",
   "execution_count": null,
   "id": "199ab25f",
   "metadata": {
    "execution": {
     "iopub.execute_input": "2024-01-30T00:17:35.258515Z",
     "iopub.status.busy": "2024-01-30T00:17:35.257272Z",
     "iopub.status.idle": "2024-01-30T00:17:35.302334Z",
     "shell.execute_reply": "2024-01-30T00:17:35.301262Z"
    },
    "papermill": {
     "duration": 0.107966,
     "end_time": "2024-01-30T00:17:35.305315",
     "exception": false,
     "start_time": "2024-01-30T00:17:35.197349",
     "status": "completed"
    },
    "tags": []
   },
   "outputs": [],
   "source": [
    "predict = xgb_model.predict(test_data_v2)\n",
    "log_y_pred = np.log(predict)"
   ]
  },
  {
   "cell_type": "code",
   "execution_count": null,
   "id": "c814f906",
   "metadata": {
    "execution": {
     "iopub.execute_input": "2024-01-30T00:17:35.422102Z",
     "iopub.status.busy": "2024-01-30T00:17:35.421654Z",
     "iopub.status.idle": "2024-01-30T00:17:35.428152Z",
     "shell.execute_reply": "2024-01-30T00:17:35.426980Z"
    },
    "papermill": {
     "duration": 0.068205,
     "end_time": "2024-01-30T00:17:35.431118",
     "exception": false,
     "start_time": "2024-01-30T00:17:35.362913",
     "status": "completed"
    },
    "tags": []
   },
   "outputs": [],
   "source": [
    "submission_df = pd.DataFrame({\n",
    "    'Id': test_data['Id'],\n",
    "    'SalePrice': log_y_pred\n",
    "})"
   ]
  },
  {
   "cell_type": "code",
   "execution_count": null,
   "id": "9ef68b55",
   "metadata": {
    "execution": {
     "iopub.execute_input": "2024-01-30T00:17:35.543304Z",
     "iopub.status.busy": "2024-01-30T00:17:35.542441Z",
     "iopub.status.idle": "2024-01-30T00:17:35.557887Z",
     "shell.execute_reply": "2024-01-30T00:17:35.556555Z"
    },
    "papermill": {
     "duration": 0.07496,
     "end_time": "2024-01-30T00:17:35.561074",
     "exception": false,
     "start_time": "2024-01-30T00:17:35.486114",
     "status": "completed"
    },
    "tags": []
   },
   "outputs": [],
   "source": [
    "submission_df.to_csv('submission.csv',index=False)"
   ]
  },
  {
   "cell_type": "code",
   "execution_count": null,
   "id": "5994bcd2",
   "metadata": {},
   "outputs": [],
   "source": []
  }
 ],
 "metadata": {
  "kaggle": {
   "accelerator": "none",
   "dataSources": [
    {
     "databundleVersionId": 868283,
     "sourceId": 5407,
     "sourceType": "competition"
    }
   ],
   "dockerImageVersionId": 30626,
   "isGpuEnabled": false,
   "isInternetEnabled": false,
   "language": "python",
   "sourceType": "notebook"
  },
  "kernelspec": {
   "display_name": "Python 3 (ipykernel)",
   "language": "python",
   "name": "python3"
  },
  "language_info": {
   "codemirror_mode": {
    "name": "ipython",
    "version": 3
   },
   "file_extension": ".py",
   "mimetype": "text/x-python",
   "name": "python",
   "nbconvert_exporter": "python",
   "pygments_lexer": "ipython3",
   "version": "3.10.9"
  },
  "papermill": {
   "default_parameters": {},
   "duration": 50.398957,
   "end_time": "2024-01-30T00:17:36.943193",
   "environment_variables": {},
   "exception": null,
   "input_path": "__notebook__.ipynb",
   "output_path": "__notebook__.ipynb",
   "parameters": {},
   "start_time": "2024-01-30T00:16:46.544236",
   "version": "2.4.0"
  }
 },
 "nbformat": 4,
 "nbformat_minor": 5
}
